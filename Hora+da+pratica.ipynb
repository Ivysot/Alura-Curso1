{
  "nbformat": 4,
  "nbformat_minor": 0,
  "metadata": {
    "colab": {
      "provenance": [],
      "toc_visible": true,
      "include_colab_link": true
    },
    "kernelspec": {
      "name": "python3",
      "display_name": "Python 3"
    },
    "language_info": {
      "name": "python"
    }
  },
  "cells": [
    {
      "cell_type": "markdown",
      "metadata": {
        "id": "view-in-github",
        "colab_type": "text"
      },
      "source": [
        "<a href=\"https://colab.research.google.com/github/Ivysot/Alura-Curso1/blob/main/Hora%2Bda%2Bpratica.ipynb\" target=\"_parent\"><img src=\"https://colab.research.google.com/assets/colab-badge.svg\" alt=\"Open In Colab\"/></a>"
      ]
    },
    {
      "cell_type": "markdown",
      "source": [
        "# Sobre o notebook\n",
        "\n",
        "A \"hora da prática\" é uma atividade do curso de Python para Data Science da Alura que contém diversos desafios envolvendo os aprendizados de cada aula.\n",
        "\n",
        "O notebook \"hora da pratica\" é um notebook construído com espaço para as células dos desafios propostos no curso, com ele você tem espaço para construir e executar suas soluções"
      ],
      "metadata": {
        "id": "_kwAaQ36gLQ1"
      }
    },
    {
      "cell_type": "markdown",
      "source": [
        "## Aula 1 - Introdução ao Python"
      ],
      "metadata": {
        "id": "Mc-KN0dA0Z83"
      }
    },
    {
      "cell_type": "markdown",
      "source": [
        "### Questão 1\n",
        "\n",
        "Imprima a frase `Escola de Dados da Alura!`"
      ],
      "metadata": {
        "id": "l5eLWf0W0ikn"
      }
    },
    {
      "cell_type": "code",
      "source": [
        "print('Escola de Dados da Alura!')"
      ],
      "metadata": {
        "id": "5pllxJ0h0-yA",
        "colab": {
          "base_uri": "https://localhost:8080/"
        },
        "outputId": "affb3223-0fdc-4706-b2a9-9b032a787b3d"
      },
      "execution_count": null,
      "outputs": [
        {
          "output_type": "stream",
          "name": "stdout",
          "text": [
            "Escola de Dados da Alura!\n"
          ]
        }
      ]
    },
    {
      "cell_type": "markdown",
      "source": [
        "### Questão 2\n",
        "Imprima na tela seu nome e seu sobrenome seguindo a estrutura abaixo:\n",
        "```\n",
        "Nome: [seu nome]\n",
        "Sobrenome: [seu sobrenome]\n",
        "```\n"
      ],
      "metadata": {
        "id": "tQdX90Ue03c7"
      }
    },
    {
      "cell_type": "code",
      "source": [
        "print('Nome: Vitor')\n",
        "print('Sobrenome: Soyama')"
      ],
      "metadata": {
        "id": "RVw5iKn20_Ps",
        "colab": {
          "base_uri": "https://localhost:8080/"
        },
        "outputId": "a9485bc6-6ab0-40d8-da10-4ad0f4b48edf"
      },
      "execution_count": null,
      "outputs": [
        {
          "output_type": "stream",
          "name": "stdout",
          "text": [
            "Nome: Vitor\n",
            "Sobrenome: Soyama\n"
          ]
        }
      ]
    },
    {
      "cell_type": "markdown",
      "source": [
        "### Questão 3\n",
        "Imprima o seu primeiro nome letra a letra. Por exemplo, nome é Mirla, então eu obtenho a seguinte saída:\n",
        "```\n",
        "M\n",
        "I\n",
        "R\n",
        "L\n",
        "A\n",
        "```\n"
      ],
      "metadata": {
        "id": "gfg-aiip03vC"
      }
    },
    {
      "cell_type": "code",
      "source": [
        "print('V')\n",
        "print('I')\n",
        "print('T')\n",
        "print('O')\n",
        "print('R')"
      ],
      "metadata": {
        "id": "v5bkrgf60_qx",
        "colab": {
          "base_uri": "https://localhost:8080/"
        },
        "outputId": "fe46da57-a649-4071-800a-646ace9a0018"
      },
      "execution_count": null,
      "outputs": [
        {
          "output_type": "stream",
          "name": "stdout",
          "text": [
            "V\n",
            "I\n",
            "T\n",
            "O\n",
            "R\n"
          ]
        }
      ]
    },
    {
      "cell_type": "markdown",
      "source": [
        "### Questão 4\n",
        "Imprima o dia do seu nascimento em formato `dia mês ano`. Os valores de dia e ano não podem estar entre aspas. O formato deve estar como no exemplo, supondo uma data de aniversário dia 28 de fevereiro de 2003:\n",
        "```\n",
        "28 fevereiro 2003\n",
        "```"
      ],
      "metadata": {
        "id": "oadrJbl704MM"
      }
    },
    {
      "cell_type": "code",
      "source": [
        "data = 9\n",
        "ano = 1998\n",
        "\n",
        "\n",
        "print( str(data) + ' de Junho de ' + str(ano))"
      ],
      "metadata": {
        "id": "cx0KSsrq1ALD",
        "colab": {
          "base_uri": "https://localhost:8080/"
        },
        "outputId": "675d8162-a9f1-4cc0-dbfd-b7d17948fc3a"
      },
      "execution_count": null,
      "outputs": [
        {
          "output_type": "stream",
          "name": "stdout",
          "text": [
            "9 de Junho de 1998\n"
          ]
        }
      ]
    },
    {
      "cell_type": "markdown",
      "source": [
        "### Questão 5\n",
        "Imprima em um único print o atual ano que você está fazendo esse curso, o valor do ano deve ser um dado numérico. A saída do print deve ser a seguinte:\n",
        "```\n",
        "Ano atual: [ano]\n",
        "```\n"
      ],
      "metadata": {
        "id": "3RgyMaan04TD"
      }
    },
    {
      "cell_type": "code",
      "execution_count": null,
      "metadata": {
        "id": "UN77EfQ2d36Y",
        "colab": {
          "base_uri": "https://localhost:8080/"
        },
        "outputId": "234635d8-2257-4301-caf8-1b6682f84b4f"
      },
      "outputs": [
        {
          "output_type": "stream",
          "name": "stdout",
          "text": [
            "Ano atual: 2023\n"
          ]
        }
      ],
      "source": [
        "anoAtual = 2023\n",
        "print(f'Ano atual: {anoAtual}')"
      ]
    },
    {
      "cell_type": "markdown",
      "source": [
        "## Aula 2 - Manipulando dados no Python"
      ],
      "metadata": {
        "id": "D9e3FqhO1S3X"
      }
    },
    {
      "cell_type": "markdown",
      "source": [
        "### Coleta e amostragem de dados"
      ],
      "metadata": {
        "id": "n6o7C1Ze2cRe"
      }
    },
    {
      "cell_type": "markdown",
      "source": [
        "#### Questão 1\n",
        "Crie um programa que solicite à pessoa usuária digitar seu nome, e imprima “Olá, [nome]!”."
      ],
      "metadata": {
        "id": "sRneWag9PV5Q"
      }
    },
    {
      "cell_type": "code",
      "source": [
        "nomeInput = input(\"Digite seu nome:\")\n",
        "print(\"Olá, \"+ nomeInput)"
      ],
      "metadata": {
        "id": "dbX1fKqy2HnE",
        "colab": {
          "base_uri": "https://localhost:8080/"
        },
        "outputId": "322729fd-9eb2-4c45-a28d-acf5edd28034"
      },
      "execution_count": null,
      "outputs": [
        {
          "output_type": "stream",
          "name": "stdout",
          "text": [
            "Digite seu nome:Vitor\n",
            "Olá, Vitor\n"
          ]
        }
      ]
    },
    {
      "cell_type": "markdown",
      "source": [
        "#### Questão 2\n",
        "Crie um programa que solicite à pessoa usuária digitar seu nome e idade, e imprima “Olá, [nome], você tem [idade] anos.”."
      ],
      "metadata": {
        "id": "BJ1SznEp70d5"
      }
    },
    {
      "cell_type": "code",
      "source": [
        "nomeInput = input(\"Digite seu nome:\")\n",
        "idadeInput = input(\"Digite sua idade:\")\n",
        "\n",
        "print(f\"Olá, {nomeInput}, você tem {idadeInput} anos \")"
      ],
      "metadata": {
        "id": "jKz-0Sq8PFkp",
        "colab": {
          "base_uri": "https://localhost:8080/"
        },
        "outputId": "07d15f8a-5e29-464f-cfae-879658041d53"
      },
      "execution_count": null,
      "outputs": [
        {
          "output_type": "stream",
          "name": "stdout",
          "text": [
            "Digite seu nome:Vitor\n",
            "Digite sua idade:25\n",
            "Olá, Vitor, você tem 25 anos \n"
          ]
        }
      ]
    },
    {
      "cell_type": "markdown",
      "source": [
        "#### Questão 3\n",
        "Crie um programa que solicite à pessoa usuária digitar seu nome, idade e altura em metros, e imprima “Olá, [nome], você tem [idade] anos e mede [altura] metros!”."
      ],
      "metadata": {
        "id": "2T0jNYZt70aa"
      }
    },
    {
      "cell_type": "code",
      "source": [
        "nomeInput = input(\"Digite seu nome:\")\n",
        "idadeInput = input(\"Digite sua idade:\")\n",
        "alturaInput = input(\"Digite sua altura:\")\n",
        "\n",
        "print(f\"Olá, {nomeInput}, você tem {idadeInput} anos e mede {alturaInput} metros!\")"
      ],
      "metadata": {
        "id": "pI4kHNzTPIXh",
        "colab": {
          "base_uri": "https://localhost:8080/"
        },
        "outputId": "fe4d6277-ebf7-48b2-ebab-30da74c43bbe"
      },
      "execution_count": null,
      "outputs": [
        {
          "output_type": "stream",
          "name": "stdout",
          "text": [
            "Digite seu nome:Vitor\n",
            "Digite sua idade:25\n",
            "Digite sua altura:1,71\n",
            "Olá, Vitor, você tem 25 anos e mede 1,71 metros!\n"
          ]
        }
      ]
    },
    {
      "cell_type": "markdown",
      "source": [
        "### Calculadora com operadores"
      ],
      "metadata": {
        "id": "mEBFwKkC70KP"
      }
    },
    {
      "cell_type": "markdown",
      "source": [
        "#### Questão 1\n",
        "\n",
        "Crie um programa que solicite dois valores numéricos à pessoa usuária e imprima a soma dos dois valores."
      ],
      "metadata": {
        "id": "H-IV1oAPPSqK"
      }
    },
    {
      "cell_type": "code",
      "source": [
        "n1 = input(\"Digite o primeiro numero: \")\n",
        "n2 = input(\"Digite o segundo numero: \")\n",
        "\n",
        "soma = int(n1)+int(n2)\n",
        "\n",
        "print(f'soma: {soma}' )"
      ],
      "metadata": {
        "id": "Zb0W84sy8rnp",
        "colab": {
          "base_uri": "https://localhost:8080/"
        },
        "outputId": "fcc6d4dd-a589-4ec3-9a81-dbf876e925b5"
      },
      "execution_count": null,
      "outputs": [
        {
          "output_type": "stream",
          "name": "stdout",
          "text": [
            "Digite o primeiro numero: 1\n",
            "Digite o segundo numero: 2\n",
            "soma: 3\n"
          ]
        }
      ]
    },
    {
      "cell_type": "markdown",
      "source": [
        "#### Questão 2\n",
        "Crie um programa que solicite três valores numéricos à pessoa usuária e imprima a soma dos três valores."
      ],
      "metadata": {
        "id": "LUoi2MOu70Em"
      }
    },
    {
      "cell_type": "code",
      "source": [
        "n1 = float(input(\"Digite o primeiro numero: \"))\n",
        "n2 = float(input(\"Digite o segundo numero: \"))\n",
        "n3 = float(input(\"Digite o terceiro numero: \"))\n",
        "\n",
        "soma = n1+n2+n3\n",
        "\n",
        "print(f'soma: {soma}' )"
      ],
      "metadata": {
        "id": "4FYjWyBS8rDm",
        "colab": {
          "base_uri": "https://localhost:8080/"
        },
        "outputId": "f12e25b4-5a0d-49ab-b7c7-790a73cd2e98"
      },
      "execution_count": null,
      "outputs": [
        {
          "output_type": "stream",
          "name": "stdout",
          "text": [
            "Digite o primeiro numero: 1.2\n",
            "Digite o segundo numero: 1.4\n",
            "Digite o terceiro numero: 1.5\n",
            "soma: 4.1\n"
          ]
        }
      ]
    },
    {
      "cell_type": "markdown",
      "source": [
        "#### Questão 3\n",
        "Crie um programa que solicite dois valores numéricos à pessoa usuária e imprima a subtração do primeiro pelo o segundo valor."
      ],
      "metadata": {
        "id": "lezGctF07z8i"
      }
    },
    {
      "cell_type": "code",
      "source": [
        "n1 = float(input(\"Digite o primeiro numero: \"))\n",
        "n2 = float(input(\"Digite o segundo numero: \"))\n",
        "\n",
        "subtracao = n1-n2\n",
        "\n",
        "print(f'subtração: {subtracao}' )"
      ],
      "metadata": {
        "id": "k0GE1z4w8p3J",
        "colab": {
          "base_uri": "https://localhost:8080/"
        },
        "outputId": "23bcfc47-f0b8-4500-d994-a35c3d9d4ba8"
      },
      "execution_count": null,
      "outputs": [
        {
          "output_type": "stream",
          "name": "stdout",
          "text": [
            "Digite o primeiro numero: 1.20\n",
            "Digite o segundo numero: 1.0\n",
            "subtração: 0.19999999999999996\n"
          ]
        }
      ]
    },
    {
      "cell_type": "markdown",
      "source": [
        "#### Questão 4\n",
        "\n",
        "Crie um programa que solicite dois valores numéricos à pessoa usuária e imprima a multiplicação dos dois valores.\n"
      ],
      "metadata": {
        "id": "wwMP-dPU7zxW"
      }
    },
    {
      "cell_type": "code",
      "source": [
        "n1 = float(input(\"Digite o primeiro numero: \"))\n",
        "n2 = float(input(\"Digite o segundo numero: \"))\n",
        "\n",
        "subtracao = n1*n2\n",
        "\n",
        "print(f'multiplicação: {subtracao}' )"
      ],
      "metadata": {
        "id": "GzFCVHfp8peZ",
        "colab": {
          "base_uri": "https://localhost:8080/"
        },
        "outputId": "19edcee1-dbc6-49cc-82b7-852a289f25aa"
      },
      "execution_count": null,
      "outputs": [
        {
          "output_type": "stream",
          "name": "stdout",
          "text": [
            "Digite o primeiro numero: 244\n",
            "Digite o segundo numero: 400\n",
            "multiplicação: 97600.0\n"
          ]
        }
      ]
    },
    {
      "cell_type": "markdown",
      "source": [
        "#### Questão 5\n",
        "\n",
        "Crie um programa que solicite dois valores numéricos, um numerador e um denominador, e realize a divisão entre os dois valores. Deixe claro que o valor do denominador não pode ser `0`.\n"
      ],
      "metadata": {
        "id": "9kxyHxUo7zRD"
      }
    },
    {
      "cell_type": "code",
      "source": [
        "n1 = float(input(\"Digite o numerador: \"))\n",
        "n2 = float(input(\"Digite o denominador diferente de zero: \"))\n",
        "\n",
        "subtracao = n1/n2\n",
        "\n",
        "print(f'divisão: {subtracao}' )"
      ],
      "metadata": {
        "id": "ytJ8l5KH8ozc",
        "colab": {
          "base_uri": "https://localhost:8080/"
        },
        "outputId": "df7a755b-6abd-49dc-d732-b81195e34c57"
      },
      "execution_count": null,
      "outputs": [
        {
          "output_type": "stream",
          "name": "stdout",
          "text": [
            "Digite o numerador: 8\n",
            "Digite o denominador diferente de zero: 4\n",
            "divisão: 2.0\n"
          ]
        }
      ]
    },
    {
      "cell_type": "markdown",
      "source": [
        "#### Questão 6\n",
        "\n",
        "Crie um programa que solicite dois valores numéricos, um operador e uma potência, e realize a exponenciação entre esses dois valores.\n"
      ],
      "metadata": {
        "id": "zkUSBTQq8Hxt"
      }
    },
    {
      "cell_type": "code",
      "source": [
        "n1 = float(input(\"Digite o operador: \"))\n",
        "n2 = float(input(\"Digite a potência: \"))\n",
        "\n",
        "subtracao = n1**n2\n",
        "\n",
        "print(f'exponenciação: {subtracao}' )"
      ],
      "metadata": {
        "id": "RPj36jq08oZp",
        "colab": {
          "base_uri": "https://localhost:8080/"
        },
        "outputId": "28968faf-0bf6-4d23-b299-615ca171c79f"
      },
      "execution_count": null,
      "outputs": [
        {
          "output_type": "stream",
          "name": "stdout",
          "text": [
            "Digite o operador: 4\n",
            "Digite a potência: 10\n",
            "exponenciação: 1048576.0\n"
          ]
        }
      ]
    },
    {
      "cell_type": "markdown",
      "source": [
        "#### Questão 7\n",
        "Crie um programa que solicite dois valores numéricos, um numerador e um denominador e realize a divisão inteira entre os dois valores. Deixe claro que o valor do denominador não pode ser `0`."
      ],
      "metadata": {
        "id": "yiunIusZ8Huj"
      }
    },
    {
      "cell_type": "code",
      "source": [
        "n1 = int(input(\"Digite o numerador: \"))\n",
        "n2 = int(input(\"Digite o denominador diferente de zero: \"))\n",
        "\n",
        "subtracao = n1//n2\n",
        "\n",
        "print(f'divisão: {subtracao}' )"
      ],
      "metadata": {
        "id": "UHK8xITf8oCg",
        "colab": {
          "base_uri": "https://localhost:8080/"
        },
        "outputId": "983060f7-bb2b-4d20-dc47-035d7e58b408"
      },
      "execution_count": null,
      "outputs": [
        {
          "output_type": "stream",
          "name": "stdout",
          "text": [
            "Digite o numerador: 5\n",
            "Digite o denominador diferente de zero: 2\n",
            "divisão: 2\n"
          ]
        }
      ]
    },
    {
      "cell_type": "markdown",
      "source": [
        "#### Questão 8\n",
        "\n",
        "Crie um programa que solicite dois valores numéricos, um numerador e um denominador, e retorne o resto da divisão entre os dois valores. Deixe claro que o valor do denominador não pode ser `0`."
      ],
      "metadata": {
        "id": "z_D_JiLX8Hra"
      }
    },
    {
      "cell_type": "code",
      "source": [
        "n1 = int(input(\"Digite o numerador: \"))\n",
        "n2 = int(input(\"Digite o denominador diferente de zero: \"))\n",
        "\n",
        "subtracao = n1%n2\n",
        "\n",
        "print(f'divisão: {subtracao}' )"
      ],
      "metadata": {
        "id": "EWGJeukO8nqx",
        "colab": {
          "base_uri": "https://localhost:8080/"
        },
        "outputId": "05fd0ad3-af95-4b99-acdc-e9ee58f76fef"
      },
      "execution_count": null,
      "outputs": [
        {
          "output_type": "stream",
          "name": "stdout",
          "text": [
            "Digite o numerador: 5\n",
            "Digite o denominador diferente de zero: 2\n",
            "divisão: 1\n"
          ]
        }
      ]
    },
    {
      "cell_type": "markdown",
      "source": [
        "#### Questão 9\n",
        "\n",
        "Crie um código que solicita 3 notas de um estudante e imprima a média das notas."
      ],
      "metadata": {
        "id": "RDRajNkU8N8N"
      }
    },
    {
      "cell_type": "code",
      "source": [
        "n1 = float(input(\"Digite a primeira nota: \"))\n",
        "n2 = float(input(\"Digite a segunda nota: \"))\n",
        "n3 = float(input(\"Digite a terceira nota: \"))\n",
        "\n",
        "media = (n1+n2+n3)/3\n",
        "\n",
        "print(f'média: {media}' )"
      ],
      "metadata": {
        "id": "H6F4Ojzt8nSR",
        "colab": {
          "base_uri": "https://localhost:8080/"
        },
        "outputId": "bcdaabdf-1a1b-4658-de02-02354985a86b"
      },
      "execution_count": null,
      "outputs": [
        {
          "output_type": "stream",
          "name": "stdout",
          "text": [
            "Digite a primeira nota: 1\n",
            "Digite a segunda nota: 2\n",
            "Digite a terceira nota: 3\n",
            "média: 2.0\n"
          ]
        }
      ]
    },
    {
      "cell_type": "markdown",
      "source": [
        "#### Questão 10\n",
        "\n",
        "Crie um código que calcule e imprima a média ponderada dos números 5, 12, 20 e 15 com pesos respectivamente iguais a 1, 2, 3 e 4."
      ],
      "metadata": {
        "id": "d7fjkne58N21"
      }
    },
    {
      "cell_type": "code",
      "source": [
        "n1 = 5\n",
        "n2 = 12\n",
        "n3 = 20\n",
        "n4 = 15\n",
        "\n",
        "media = (n1*1+n2*2+n3*3+n4*4)/10\n",
        "\n",
        "print(f'média ponderada: {media}' )"
      ],
      "metadata": {
        "id": "fwjoHlV48mkv",
        "colab": {
          "base_uri": "https://localhost:8080/"
        },
        "outputId": "4c42ca3e-8df6-4e43-cecd-e640910337b0"
      },
      "execution_count": null,
      "outputs": [
        {
          "output_type": "stream",
          "name": "stdout",
          "text": [
            "média ponderada: 14.9\n"
          ]
        }
      ]
    },
    {
      "cell_type": "markdown",
      "source": [
        "### Editando textos"
      ],
      "metadata": {
        "id": "GNmbX1OU8N0V"
      }
    },
    {
      "cell_type": "markdown",
      "source": [
        "#### Questão 1\n",
        "\n",
        "Crie uma variável chamada “`frase`” e atribua a ela uma string de sua escolha. Em seguida, imprima a frase na tela."
      ],
      "metadata": {
        "id": "6wZ85mCsRCV0"
      }
    },
    {
      "cell_type": "code",
      "source": [
        "frase = 'Olá mundo!'\n",
        "print(frase)"
      ],
      "metadata": {
        "id": "eRqr_gh-8mFy",
        "colab": {
          "base_uri": "https://localhost:8080/"
        },
        "outputId": "0da4f769-920d-4185-e142-d1bbcbd19916"
      },
      "execution_count": null,
      "outputs": [
        {
          "output_type": "stream",
          "name": "stdout",
          "text": [
            "Olá mundo!\n"
          ]
        }
      ]
    },
    {
      "cell_type": "markdown",
      "source": [
        "#### Questão 2\n",
        "Crie um código que solicite uma frase e depois imprima a frase na tela."
      ],
      "metadata": {
        "id": "Aac17z-18Nwv"
      }
    },
    {
      "cell_type": "code",
      "source": [
        "frase = input(\"Digite uma frase:\")\n",
        "print(frase)"
      ],
      "metadata": {
        "id": "8zfE2hh98lb0",
        "colab": {
          "base_uri": "https://localhost:8080/"
        },
        "outputId": "9c3943bd-5b87-4990-f3d9-174c7bc30eb2"
      },
      "execution_count": null,
      "outputs": [
        {
          "output_type": "stream",
          "name": "stdout",
          "text": [
            "Digite uma frase:Olá\n",
            "Olá\n"
          ]
        }
      ]
    },
    {
      "cell_type": "markdown",
      "source": [
        "#### Questão 3\n",
        "\n",
        "Crie um código que solicite uma frase à pessoa usuária e imprima a mesma frase digitada mas com todas as letras maiúsculas."
      ],
      "metadata": {
        "id": "DXVzqpN58Ntr"
      }
    },
    {
      "cell_type": "code",
      "source": [
        "frase = input(\"Digite uma frase:\")\n",
        "frase = frase.upper()\n",
        "print(frase)"
      ],
      "metadata": {
        "id": "d0VzoYP68k-I",
        "colab": {
          "base_uri": "https://localhost:8080/"
        },
        "outputId": "c584905b-c6e8-460a-e80f-766474e35b32"
      },
      "execution_count": null,
      "outputs": [
        {
          "output_type": "stream",
          "name": "stdout",
          "text": [
            "Digite uma frase:Olá\n",
            "OLÁ\n"
          ]
        }
      ]
    },
    {
      "cell_type": "markdown",
      "source": [
        "#### Questão 4\n",
        "\n",
        "Crie um código que solicite uma frase à pessoa usuária e imprima a mesma frase digitada mas com todas as letras minúsculas."
      ],
      "metadata": {
        "id": "I12VeNPK8Nqb"
      }
    },
    {
      "cell_type": "code",
      "source": [
        "frase = input(\"Digite uma frase:\")\n",
        "frase = frase.lower()\n",
        "print(frase)"
      ],
      "metadata": {
        "id": "KD8rNy2K8kox",
        "colab": {
          "base_uri": "https://localhost:8080/"
        },
        "outputId": "0f76e51c-31fe-46bb-a8c1-68a5c7bb57db"
      },
      "execution_count": null,
      "outputs": [
        {
          "output_type": "stream",
          "name": "stdout",
          "text": [
            "Digite uma frase:Olá\n",
            "olá\n"
          ]
        }
      ]
    },
    {
      "cell_type": "markdown",
      "source": [
        "#### Questão 5\n",
        "\n",
        "Crie uma variável chamada “`frase`” e atribua a ela uma string de sua escolha. Em seguida, imprima a frase sem espaços em branco no início e no fim."
      ],
      "metadata": {
        "id": "cRqngSE48Nog"
      }
    },
    {
      "cell_type": "code",
      "source": [
        "frase = '    Olá mundo!   '\n",
        "frase = frase.strip(\" \")\n",
        "\n",
        "print(frase)\n"
      ],
      "metadata": {
        "id": "aSCpdF-o8kBs",
        "colab": {
          "base_uri": "https://localhost:8080/"
        },
        "outputId": "d3ee319f-b7cf-48b6-8578-7534d6ffce9b"
      },
      "execution_count": null,
      "outputs": [
        {
          "output_type": "stream",
          "name": "stdout",
          "text": [
            "Olá mundo!\n"
          ]
        }
      ]
    },
    {
      "cell_type": "markdown",
      "source": [
        "#### Questão 6\n",
        "\n",
        "Crie um código que solicite uma frase à pessoa usuária e imprima a mesma frase sem espaços em branco no início e no fim."
      ],
      "metadata": {
        "id": "murIazpQ8Nkv"
      }
    },
    {
      "cell_type": "code",
      "source": [
        "frase = input('Digite uma frase:')\n",
        "frase = frase.lstrip(\" \")\n",
        "\n",
        "\n",
        "print(frase)\n"
      ],
      "metadata": {
        "id": "tHunjwuG8jNq",
        "colab": {
          "base_uri": "https://localhost:8080/"
        },
        "outputId": "c38f0a3e-5e37-44e1-de05-dca3a602b983"
      },
      "execution_count": null,
      "outputs": [
        {
          "output_type": "stream",
          "name": "stdout",
          "text": [
            "Digite uma frase:     Olá Mundo!      \n",
            "Olá Mundo!\n"
          ]
        }
      ]
    },
    {
      "cell_type": "markdown",
      "source": [
        "#### Questão 7\n",
        "\n",
        "\n",
        "Crie um código que solicite uma frase à pessoa usuária e imprima a mesma frase sem espaços em branco no início e no fim e em letras minúsculas."
      ],
      "metadata": {
        "id": "eRxc2OeX8Nh2"
      }
    },
    {
      "cell_type": "code",
      "source": [
        "frase = input('Digite uma frase:')\n",
        "frase = frase.strip(\" \")\n",
        "frase = frase.lower()\n",
        "\n",
        "print(frase)"
      ],
      "metadata": {
        "id": "DYm0_UwS8ih6",
        "colab": {
          "base_uri": "https://localhost:8080/"
        },
        "outputId": "1ee3f6b9-2984-42ab-cf0c-7b2c98fb2b48"
      },
      "execution_count": null,
      "outputs": [
        {
          "output_type": "stream",
          "name": "stdout",
          "text": [
            "Digite uma frase:          OLÀ MUNDO!        \n",
            "olà mundo!\n"
          ]
        }
      ]
    },
    {
      "cell_type": "markdown",
      "source": [
        "#### Questão 8\n",
        "\n",
        "Crie um código que solicite uma frase à pessoa usuária e imprima a mesma frase com todas as vogais “`e`” trocadas pela letra “`f`”."
      ],
      "metadata": {
        "id": "UKATLavs8NfI"
      }
    },
    {
      "cell_type": "code",
      "source": [
        "frase = input('Digite uma frase:')\n",
        "frase = frase.replace(\"e\", \"f\")\n",
        "\n",
        "\n",
        "print(frase)"
      ],
      "metadata": {
        "id": "k64C5G5S8iLO",
        "colab": {
          "base_uri": "https://localhost:8080/"
        },
        "outputId": "112335fb-018b-4832-a5bc-697171c54358"
      },
      "execution_count": null,
      "outputs": [
        {
          "output_type": "stream",
          "name": "stdout",
          "text": [
            "Digite uma frase:estou aqui\n",
            "fstou aqui\n"
          ]
        }
      ]
    },
    {
      "cell_type": "markdown",
      "source": [
        "#### Questão 9\n",
        "\n",
        "\n",
        "Crie um código que solicite uma frase à pessoa usuária e imprima a mesma frase com todas as vogais “`a`” trocadas pela caractere  “`@`”."
      ],
      "metadata": {
        "id": "n_1SPchw8NdG"
      }
    },
    {
      "cell_type": "code",
      "source": [
        "frase = input('Digite uma frase:')\n",
        "frase = frase.replace(\"a\", \"@\")\n",
        "\n",
        "\n",
        "print(frase)"
      ],
      "metadata": {
        "id": "msaDNm_p8h0D",
        "colab": {
          "base_uri": "https://localhost:8080/"
        },
        "outputId": "1492d361-f34e-45ff-811e-6fab147a413f"
      },
      "execution_count": null,
      "outputs": [
        {
          "output_type": "stream",
          "name": "stdout",
          "text": [
            "Digite uma frase:aqui estou\n",
            "@qui estou\n"
          ]
        }
      ]
    },
    {
      "cell_type": "markdown",
      "source": [
        "#### Questão 10\n",
        "\n",
        "\n",
        "Crie um código que solicite uma frase à pessoa usuária e imprima a mesma frase com todas as consoantes “`s`” trocadas pelo caractere  “`$`”."
      ],
      "metadata": {
        "id": "H3sTTjqI8Naa"
      }
    },
    {
      "cell_type": "code",
      "source": [
        "frase = input('Digite uma frase:')\n",
        "frase = frase.replace(\"s\", \"$\")\n",
        "\n",
        "\n",
        "print(frase)"
      ],
      "metadata": {
        "id": "RPBIsWT68e-1",
        "colab": {
          "base_uri": "https://localhost:8080/"
        },
        "outputId": "1e64a7dd-f7d1-4cdb-e696-6ede4bb876c8"
      },
      "execution_count": null,
      "outputs": [
        {
          "output_type": "stream",
          "name": "stdout",
          "text": [
            "Digite uma frase:estou aqui\n",
            "e$tou aqui\n"
          ]
        }
      ]
    },
    {
      "cell_type": "markdown",
      "source": [
        "## Aula 3 - Estruturas condicionais"
      ],
      "metadata": {
        "id": "XGePe4GD2I59"
      }
    },
    {
      "cell_type": "markdown",
      "source": [
        "### Aquecendo na programação"
      ],
      "metadata": {
        "id": "Pr9HTW0UHCdD"
      }
    },
    {
      "cell_type": "markdown",
      "source": [
        "#### Questão 1\n",
        "Escreva um programa que peça à pessoa usuária para fornecer dois números e exibir o número maior."
      ],
      "metadata": {
        "id": "xBZHqhVg80Fy"
      }
    },
    {
      "cell_type": "code",
      "source": [
        "n1 = float(input('Digite um número:'))\n",
        "n2 = float(input('Digite outro número:'))\n",
        "\n",
        "if(n1>n2):\n",
        "  print(f'O número: {n1} é maior')\n",
        "elif(n2>n1):\n",
        "  print(f'O número: {n2} é maior')\n",
        "else:\n",
        "  print('Os dois números são iguais')\n"
      ],
      "metadata": {
        "id": "GJlGnzjc-xyF",
        "colab": {
          "base_uri": "https://localhost:8080/"
        },
        "outputId": "69d1ea34-4786-4770-8c19-45d391354668"
      },
      "execution_count": null,
      "outputs": [
        {
          "output_type": "stream",
          "name": "stdout",
          "text": [
            "Digite um número:2\n",
            "Digite outro número:1\n",
            "O número: 2.0 é maior\n"
          ]
        }
      ]
    },
    {
      "cell_type": "markdown",
      "source": [
        "#### Questão 2\n",
        "Escreva um programa que solicite o percentual de crescimento de produção de uma empresa e informe se houve um crescimento (porcentagem positiva) ou decrescimento (porcentagem negativa)."
      ],
      "metadata": {
        "id": "H4sgN7dyHNJF"
      }
    },
    {
      "cell_type": "code",
      "source": [
        "# Coleta do percentual\n",
        "percentual = float(input('Digite o percentual de crescimento: '))\n",
        "\n",
        "\n",
        "if percentual > 0:\n",
        "    print(f'Houve um crescimento de {percentual}%')\n",
        "elif percentual < 0:\n",
        "    print(f'Houve um decrescimento de {percentual}%')\n",
        "else:\n",
        "    print('Não houve crescimento ou decrescimento.')"
      ],
      "metadata": {
        "id": "-2_Ry5XJ-yZW",
        "colab": {
          "base_uri": "https://localhost:8080/"
        },
        "outputId": "813a725a-eb8a-4858-8044-2a6ea75b5800"
      },
      "execution_count": null,
      "outputs": [
        {
          "output_type": "stream",
          "name": "stdout",
          "text": [
            "Digite o percentual de crescimento: -1\n",
            "Houve um decrescimento de -1.0%\n"
          ]
        }
      ]
    },
    {
      "cell_type": "markdown",
      "source": [
        "#### Questão 3\n",
        "Escreva um programa que determine se uma letra fornecida pela pessoa usuária é uma vogal ou consoante."
      ],
      "metadata": {
        "id": "a_mzNOBDHNny"
      }
    },
    {
      "cell_type": "code",
      "source": [
        "letra = input('Digite uma letra:')\n",
        "\n",
        "vogais = 'aeiou'\n",
        "\n",
        "if (letra in vogais):\n",
        "  print(\"É uma vogal\")\n",
        "else:\n",
        "  print('É uma consoante')\n"
      ],
      "metadata": {
        "id": "NbgndVyg-zFJ",
        "colab": {
          "base_uri": "https://localhost:8080/"
        },
        "outputId": "7a396dcd-092a-403b-e9a2-ef12aa072ecd"
      },
      "execution_count": null,
      "outputs": [
        {
          "output_type": "stream",
          "name": "stdout",
          "text": [
            "Digite uma letra:a\n",
            "É uma vogal\n"
          ]
        }
      ]
    },
    {
      "cell_type": "markdown",
      "source": [
        "#### Questão 4\n",
        "Escreva um programa que leia valores médios de preços de um modelo de carro por 3 anos consecutivos e exiba o valor mais alto e mais baixo entre esses três anos."
      ],
      "metadata": {
        "id": "mofMRjSZHP99"
      }
    },
    {
      "cell_type": "code",
      "source": [
        "\n",
        "preco_ano1 = float(input('Informe o preço médio do carro no primeiro ano: '))\n",
        "preco_ano2 = float(input('Informe o preço médio do carro no segundo ano: '))\n",
        "preco_ano3 = float(input('Informe o preço médio do carro no terceiro ano: '))\n",
        "\n",
        "\n",
        "if preco_ano2 > preco_ano1 and preco_ano2 > preco_ano3:\n",
        "  maior = preco_ano2\n",
        "elif preco_ano3 > preco_ano2 and preco_ano3 > preco_ano1:\n",
        "  maior = preco_ano3\n",
        "else:\n",
        "  maior = preco_ano1\n",
        "\n",
        "\n",
        "if preco_ano2 < preco_ano1 and preco_ano2 < preco_ano3:\n",
        "  menor = preco_ano2\n",
        "elif preco_ano3 < preco_ano1 and preco_ano3 < preco_ano2:\n",
        "  menor = preco_ano3\n",
        "else:\n",
        "  menor = preco_ano1\n",
        "\n",
        "\n",
        "print(f'O preço mais alto foi de R$ {maior}.')\n",
        "print(f'O preço mais baixo foi de R$ {menor}.')"
      ],
      "metadata": {
        "id": "TX--d3k9-02c",
        "colab": {
          "base_uri": "https://localhost:8080/"
        },
        "outputId": "3f48b12e-1417-4e85-b48d-1b7609fe22da"
      },
      "execution_count": null,
      "outputs": [
        {
          "output_type": "stream",
          "name": "stdout",
          "text": [
            "Informe o preço médio do carro no primeiro ano: 1000\n",
            "Informe o preço médio do carro no segundo ano: 1500\n",
            "Informe o preço médio do carro no terceiro ano: 2000\n",
            "O preço mais alto foi de R$ 2000.0.\n",
            "O preço mais baixo foi de R$ 1000.0.\n"
          ]
        }
      ]
    },
    {
      "cell_type": "markdown",
      "source": [
        "#### Questão 5\n",
        "Escreva um programa que pergunte sobre o preço de três produtos e indique qual é o produto mais barato para comprar."
      ],
      "metadata": {
        "id": "jY5tIwd-HQzc"
      }
    },
    {
      "cell_type": "code",
      "source": [
        "p1 = float(input('Informe o preço do produto 1: '))\n",
        "p2 = float(input('Informe o preço do produto 2: '))\n",
        "p3 = float(input('Informe o preço do produto 3: '))\n",
        "\n",
        "\n",
        "if p1 < p2 and p1 < p3:\n",
        "  menor = 1\n",
        "elif p2 < p1 and p2 < p3:\n",
        "  menor = 2\n",
        "else:\n",
        "  menor = 3\n",
        "\n",
        "\n",
        "print(f'O produto mais barato é o produto {menor}.')"
      ],
      "metadata": {
        "id": "sYqNh9df-0gk",
        "colab": {
          "base_uri": "https://localhost:8080/"
        },
        "outputId": "d1cf91fb-b041-4a7a-f8fc-d8f9cc2e0b15"
      },
      "execution_count": null,
      "outputs": [
        {
          "output_type": "stream",
          "name": "stdout",
          "text": [
            "Informe o preço do produto 1: 10\n",
            "Informe o preço do produto 2: 20\n",
            "Informe o preço do produto 3: 15\n",
            "O produto mais barato é o produto 1.\n"
          ]
        }
      ]
    },
    {
      "cell_type": "markdown",
      "source": [
        "#### Questão 6\n",
        "Escreva um programa que leia três números e os exiba em ordem decrescente."
      ],
      "metadata": {
        "id": "1r6aVxtTHR4E"
      }
    },
    {
      "cell_type": "code",
      "source": [
        "n1 = float(input(\"Digite o primeiro número:\"))\n",
        "n2 = float(input(\"Digite o segundo número:\"))\n",
        "n3 = float(input(\"Digite o terceiro número:\"))\n",
        "\n",
        "if n1 <= n2 and n1 <= n3:\n",
        "  menor = n1\n",
        "  if n2 >= n3:\n",
        "    maior = n2\n",
        "    meio = n3\n",
        "  else:\n",
        "    maior = n3\n",
        "    meio = n2\n",
        "elif n1 <= n1 and n1 >= n3:\n",
        "  meio = n1\n",
        "  if n2 >= n3:\n",
        "    maior = n2\n",
        "    menor = n3\n",
        "  else:\n",
        "    maior = n3\n",
        "    menor = n2\n",
        "else:\n",
        "  maior = n1\n",
        "  if n2 >= n3:\n",
        "    meio = n2\n",
        "    menor = n3\n",
        "  else:\n",
        "    meio = n3\n",
        "    menor = n2\n",
        "\n",
        "print(f'{maior}; {meio}; {menor}')\n",
        "\n",
        "\n",
        "\n"
      ],
      "metadata": {
        "id": "ydOCYUMO-0Hk",
        "colab": {
          "base_uri": "https://localhost:8080/"
        },
        "outputId": "58cd1147-de61-40c6-d30d-e80e052c22a0"
      },
      "execution_count": null,
      "outputs": [
        {
          "output_type": "stream",
          "name": "stdout",
          "text": [
            "Digite o primeiro número:1\n",
            "Digite o segundo número:2\n",
            "Digite o terceiro número:3\n",
            "3.0; 2.0; 1.0\n"
          ]
        }
      ]
    },
    {
      "cell_type": "markdown",
      "source": [
        "#### Questão 7\n",
        "Escreva um programa que pergunte em qual turno a pessoa usuária estuda (\"manhã\", \"tarde\" ou \"noite\") e exiba a mensagem \"Bom Dia!\", \"Boa Tarde!\", \"Boa Noite!\", ou \"Valor Inválido!\", conforme o caso."
      ],
      "metadata": {
        "id": "inW3F-hAHS_X"
      }
    },
    {
      "cell_type": "code",
      "source": [
        "turno = input(\"Por favor informe o seu turno(manhã, tarde ou noite): \")\n",
        "\n",
        "turno = turno.lower()\n",
        "\n",
        "if turno == \"manhã\":\n",
        "  print(\"Bom dia!\")\n",
        "elif turno == \"tarde\":\n",
        "  print(\"Boa tarde!\")\n",
        "elif turno == \"noite\":\n",
        "  print(\"Boa noite!\")\n",
        "else:\n",
        "  print(\"Valor Inválido\")\n"
      ],
      "metadata": {
        "id": "-_q-Pcr_-zth",
        "colab": {
          "base_uri": "https://localhost:8080/"
        },
        "outputId": "363539be-636f-444f-a9df-945d800cff79"
      },
      "execution_count": null,
      "outputs": [
        {
          "output_type": "stream",
          "name": "stdout",
          "text": [
            "Por favor informe o seu turno(manhã, tarde ou noite)Manhã\n",
            "Bom dia!\n"
          ]
        }
      ]
    },
    {
      "cell_type": "markdown",
      "source": [
        "#### Questão 8\n",
        "Escreva um programa que peça um número inteiro à pessoa usuária e determine se ele é par ou ímpar. Dica: Você pode utilizar o operador módulo `%`."
      ],
      "metadata": {
        "id": "NCCPF3QqHTw-"
      }
    },
    {
      "cell_type": "code",
      "source": [
        "numero = int(input('Digite um número:'))\n",
        "\n",
        "resto = numero%2\n",
        "\n",
        "if resto != 0:\n",
        "  print(\"O número é impar\")\n",
        "else:\n",
        "  print(\"O número é par\")"
      ],
      "metadata": {
        "id": "OmZJt1nQ-3e6",
        "colab": {
          "base_uri": "https://localhost:8080/"
        },
        "outputId": "aed7d992-1771-4e56-d000-bb4df0430d29"
      },
      "execution_count": null,
      "outputs": [
        {
          "output_type": "stream",
          "name": "stdout",
          "text": [
            "Digite um número:51\n",
            "O número é impar\n"
          ]
        }
      ]
    },
    {
      "cell_type": "markdown",
      "source": [
        "#### Questão 9\n",
        "Escreva um programa que peça um número à pessoa usuária e informe se ele é inteiro ou decimal."
      ],
      "metadata": {
        "id": "h93Ck1tQHUwE"
      }
    },
    {
      "cell_type": "code",
      "source": [
        "numero = float(input('Digite um número:'))\n",
        "\n",
        "resto = numero%1\n",
        "\n",
        "if resto != 0:\n",
        "  print(\"O número é decimal\")\n",
        "else:\n",
        "  print(\"O número é inteiro\")"
      ],
      "metadata": {
        "id": "sLMlZcx8-20N",
        "colab": {
          "base_uri": "https://localhost:8080/"
        },
        "outputId": "cf9f5ba6-fa93-4140-edea-06095c4ba697"
      },
      "execution_count": null,
      "outputs": [
        {
          "output_type": "stream",
          "name": "stdout",
          "text": [
            "Digite um número:1.0\n",
            "O número é inteiro\n"
          ]
        }
      ]
    },
    {
      "cell_type": "markdown",
      "source": [
        "### Momento dos projetos"
      ],
      "metadata": {
        "id": "bKdXSK1SH_pF"
      }
    },
    {
      "cell_type": "markdown",
      "source": [
        "#### Questão 10\n",
        "Um programa deve ser escrito para ler dois números e, em seguida, perguntar à pessoa usuária qual operação ele deseja realizar. O resultado da operação deve incluir informações sobre o número - se é par ou ímpar, positivo ou negativo e inteiro ou decimal."
      ],
      "metadata": {
        "id": "WBlEyyzsHV86"
      }
    },
    {
      "cell_type": "code",
      "source": [
        "n1 = float(input('Digite o primeiro número: '))\n",
        "\n",
        "n2 = float(input('Digite o segundo número: '))\n",
        "\n",
        "acao = input('Qual ação gostaria de realizar (+, -, *, /): ')\n",
        "\n",
        "\n",
        "if acao == '+':\n",
        "  resultado = n1+n2\n",
        "elif acao == '-':\n",
        "  resultado = n1-n2\n",
        "elif acao == '*':\n",
        "  resultado = n1*n2\n",
        "elif acao == '/':\n",
        "  resultado = n1/n2\n",
        "else:\n",
        "  print('Ação inválida')\n",
        "  resultado = ''\n",
        "\n",
        "if resultado != '':\n",
        "  restoInt = resultado%1\n",
        "  restoPar = resultado%2\n",
        "\n",
        "  if restoInt != 0:\n",
        "    inteiro = \"Decimal\"\n",
        "  else:\n",
        "    inteiro = \"Inteiro\"\n",
        "\n",
        "  if restoPar != 0:\n",
        "    par = \"Ímpar\"\n",
        "  else:\n",
        "    par = \"Par\"\n",
        "\n",
        "  if resultado >= 0:\n",
        "    pos = \"Positivo\"\n",
        "  else:\n",
        "    pos = \"Negativo\"\n",
        "  print(f'O resultado é igual à {resultado}, e é {inteiro}, {par} e {pos}')\n"
      ],
      "metadata": {
        "id": "3jmahZ0f-2gq",
        "colab": {
          "base_uri": "https://localhost:8080/"
        },
        "outputId": "ef13cf52-a7c0-4df3-9cde-6952bd06cf27"
      },
      "execution_count": null,
      "outputs": [
        {
          "output_type": "stream",
          "name": "stdout",
          "text": [
            "Digite o primeiro número: 8\n",
            "Digite o segundo número: 8\n",
            "Qual ação gostaria de realizar (+, -, *, /): 8\n",
            "Ação inválida\n"
          ]
        }
      ]
    },
    {
      "cell_type": "markdown",
      "source": [
        "#### Questão 11\n",
        "Escreva um programa que peça à pessoa usuária três números que representam os lados de um triângulo. O programa deve informar se os valores podem ser utilizados para formar um triângulo e, caso afirmativo, se ele é equilátero, isósceles ou escaleno. Tenha em mente algumas dicas:\n",
        "- Três lados formam um triângulo quando a soma de quaisquer dois lados for maior que o terceiro;\n",
        "- Triângulo Equilátero: três lados iguais;\n",
        "- Triângulo Isósceles: quaisquer dois lados iguais;\n",
        "- Triângulo Escaleno: três lados diferentes;\n"
      ],
      "metadata": {
        "id": "VdnlULxHHW19"
      }
    },
    {
      "cell_type": "code",
      "source": [
        "lado1 = float(input(\"Digite o lado 1: \"))\n",
        "lado2 = float(input(\"Digite o lado 2: \"))\n",
        "lado3 = float(input(\"Digite o lado 3: \"))\n",
        "\n",
        "if lado1+lado2 < lado3 or lado1+lado3 < lado2 or lado2+lado3 < lado1:\n",
        "  print(\"Triângulo inválido!\")\n",
        "else:\n",
        "  if lado1 == lado2 == lado3:\n",
        "    print(\"É um triângulo Equilátero\")\n",
        "  elif lado1 != lado2 != lado3:\n",
        "    print(\"É um triângulo Escaleno\")\n",
        "  else:\n",
        "    print(\"É um triângulo Isósceles\")\n"
      ],
      "metadata": {
        "id": "0z73sqUO-2Pw",
        "colab": {
          "base_uri": "https://localhost:8080/"
        },
        "outputId": "2ae76591-11d4-43e6-ea1b-87d2dd172952"
      },
      "execution_count": null,
      "outputs": [
        {
          "output_type": "stream",
          "name": "stdout",
          "text": [
            "Digite o lado 1: 6\n",
            "Digite o lado 2: 6\n",
            "Digite o lado 3: 5\n",
            "É um triângulo Isósceles\n"
          ]
        }
      ]
    },
    {
      "cell_type": "markdown",
      "source": [
        "#### Questão 12\n",
        "Um estabelecimento está vendendo combustíveis com descontos variados. Para o etanol, se a quantidade comprada for até 15 litros, o desconto será de 2% por litro. Caso contrário, será de 4% por litro. Para o diesel, se a quantidade comprada for até 15 litros, o desconto será de 3% por litro. Caso contrário, será de 5% por litro. O preço do litro de diesel é R\\$ 2,00 e o preço do litro de etanol é R\\$ 1,70. Escreva um programa que leia a quantidade de litros vendidos e o tipo de combustível (E para etanol e D para diesel) e calcule o valor a ser pago pelo cliente. Tenha em mente algumas dicas:\n",
        "\n",
        "- O do valor do desconto será a multiplicação entre preço do litro, quantidade de litros e o valor do desconto.\n",
        "- O valor a ser pago por um cliente será o resultado da multiplicação do preço do litro pela quantidade de litros menos o valor de desconto resultante do cálculo.\n"
      ],
      "metadata": {
        "id": "_PpEpOugHXwZ"
      }
    },
    {
      "cell_type": "code",
      "source": [
        "combustivel = input(\"Digite o tipo de combustível(Etanol(E) ou Diesel(D)):\")\n",
        "\n",
        "if combustivel.lower() != \"d\" and combustivel.lower() != \"e\":\n",
        "  print(\"Combustível Inválido\")\n",
        "else:\n",
        "  litros = float(input(\"Digite a quantidade de litros que deseja abastecer:\"))\n",
        "  if litros > 0:\n",
        "    if combustivel == \"E\":\n",
        "      precoL = 1.70\n",
        "      if litros < 15:\n",
        "        desconto = 0.02\n",
        "      else:\n",
        "        desconto = 0.04\n",
        "    if combustivel == \"D\":\n",
        "      precoL = 2.00\n",
        "      if litros < 15:\n",
        "        desconto = 0.03\n",
        "      else:\n",
        "        desconto = 0.05\n",
        "  else:\n",
        "    print(\"Quantidade de litros inválida\")\n",
        "\n",
        "  precoF = precoL*litros*(1-desconto)\n",
        "\n",
        "  print(f\"O total a pagar será: {precoF} com o desconto de {desconto*100}% e preço o litro de: {precoL}\")\n",
        "\n"
      ],
      "metadata": {
        "id": "9izoF-0O-1yD",
        "colab": {
          "base_uri": "https://localhost:8080/"
        },
        "outputId": "db1655d7-db69-4c54-d3c8-7f3f276bb00d"
      },
      "execution_count": null,
      "outputs": [
        {
          "output_type": "stream",
          "name": "stdout",
          "text": [
            "Digite o tipo de combustível(Etanol(E) ou Diesel(D)):D\n",
            "Digite a quantidade de litros que deseja abastecer:15\n",
            "O total a pagar será: 28.5 com o desconto de 5.0% e preço o litro de: 2.0\n"
          ]
        }
      ]
    },
    {
      "cell_type": "markdown",
      "source": [
        "#### Questão 13\n",
        "Em uma empresa de venda de imóveis você precisa criar um código que analise os dados de vendas anuais para ajudar a diretoria na tomada de decisão. O código precisa coletar os dados de quantidade de venda durante os anos de 2022 e 2023 e fazer um cálculo de variação percentual. A partir do valor da variação, deve ser enviada às seguintes sugestões:\n",
        "- Para variação acima de 20%: bonificação para o time de vendas.\n",
        "- Para variação entre 2% e 20%: pequena bonificação para time de vendas.\n",
        "- Para variação entre 2% e -10%: planejamento de políticas de incentivo às vendas.\n",
        "- Para bonificações abaixo de -10%: corte de gastos.\n"
      ],
      "metadata": {
        "id": "s_XS_D1WHY2R"
      }
    },
    {
      "cell_type": "code",
      "source": [
        "\n",
        "venda2022 = float(input('Informe a quantidade de vendas em 2022: '))\n",
        "venda2023 = float(input('Informe a quantidade de vendas em 2023: '))\n",
        "\n",
        "\n",
        "varPercentual = 100 * (venda2023 - venda2022) / (venda2022)\n",
        "\n",
        "\n",
        "if varPercentual > 20:\n",
        "    print('Bonificação para o time de vendas.')\n",
        "elif 2 <= varPercentual <= 20:\n",
        "    print('Pequena bonificação para time de vendas.')\n",
        "elif -10 <= varPercentual < 2:\n",
        "    print('Planejamento de políticas de incentivo às vendas.')\n",
        "else:\n",
        "    print('Corte de gastos.')"
      ],
      "metadata": {
        "id": "avQrYlUg-w8f"
      },
      "execution_count": null,
      "outputs": []
    },
    {
      "cell_type": "markdown",
      "source": [
        "## Aula 4 - Estruturas de repetição"
      ],
      "metadata": {
        "id": "AuaWh4-d2Itt"
      }
    },
    {
      "cell_type": "markdown",
      "source": [
        "### Aquecendo na programação"
      ],
      "metadata": {
        "id": "6MSqU0sIJRdD"
      }
    },
    {
      "cell_type": "markdown",
      "source": [
        "#### Questão 1\n",
        "Escreva um programa que peça dois números inteiros e imprima todos os números inteiros entre eles."
      ],
      "metadata": {
        "id": "9eGGyCnAJRdQ"
      }
    },
    {
      "cell_type": "code",
      "source": [
        "n1 = int(input(\"Digite o primeiro número:\"))\n",
        "n2 = int(input(\"Digite o segundo número\"))\n",
        "\n",
        "if n1 > n2:\n",
        "  maior = n1\n",
        "  menor = n2\n",
        "else:\n",
        "  maior = n2\n",
        "  menor = n1\n",
        "\n",
        "for i in range(menor+1, maior):\n",
        "  print(i)"
      ],
      "metadata": {
        "id": "ID1oc1hxJRdQ",
        "colab": {
          "base_uri": "https://localhost:8080/"
        },
        "outputId": "d7eda9ef-4d0b-4042-cd2c-6085708fcfe5"
      },
      "execution_count": null,
      "outputs": [
        {
          "output_type": "stream",
          "name": "stdout",
          "text": [
            "Digite o primeiro número:5\n",
            "Digite o segundo número1\n",
            "2\n",
            "3\n",
            "4\n"
          ]
        }
      ]
    },
    {
      "cell_type": "markdown",
      "source": [
        "#### Questão 2\n",
        "Escreva um programa para calcular quantos dias levará para a colônia de uma bactéria A ultrapassar ou igualar a colônia de uma bactéria B, com base nas taxas de crescimento de 3% e 1,5% respectivamente. Considere que a colônia A inicia com 4 elementos e a colônia B com 10 elementos."
      ],
      "metadata": {
        "id": "mGonEHYCJRdR"
      }
    },
    {
      "cell_type": "code",
      "source": [
        "popA = 4\n",
        "popB = 10\n",
        "\n",
        "taxaA = 3\n",
        "taxaB = 1.5\n",
        "\n",
        "dias = 0\n",
        "\n",
        "while popA <= popB:\n",
        "  popA *= (1+(taxaA/100))\n",
        "  popB *= (1+(taxaB/100))\n",
        "  dias += 1\n",
        "\n",
        "print(f\"Demorará {dias} dias\")\n",
        "\n",
        "print(popA)\n",
        "print(popB)"
      ],
      "metadata": {
        "id": "wM6FJuoqJRdR",
        "colab": {
          "base_uri": "https://localhost:8080/"
        },
        "outputId": "91319472-1428-4185-be62-d05e91e57045"
      },
      "execution_count": null,
      "outputs": [
        {
          "output_type": "stream",
          "name": "stdout",
          "text": [
            "Demorará 63 dias\n",
            "25.75165514029839\n",
            "25.548220848110983\n"
          ]
        }
      ]
    },
    {
      "cell_type": "markdown",
      "source": [
        "#### Questão 3\n",
        "Para tratar uma quantidade de 15 dados de avaliações de pessoas usuárias de um serviço da empresa, precisamos verificar se as notas são válidas. Então, escreva um programa que vai receber a nota de 0 a 5 de todos os dados e verificar se é um valor válido. Caso seja inserido uma nota acima de 5 ou abaixo de 0, repita até que a pessoa usuária insira um valor válido."
      ],
      "metadata": {
        "id": "UiOZRlqoJRdR"
      }
    },
    {
      "cell_type": "code",
      "source": [
        "for i in range(1,16):\n",
        "  nota = float(input(f\"Digite a nota nº {i} \"))\n",
        "  while (nota < 0) or (nota > 5):\n",
        "      nota = float(input(f\"Nota inválida! Digite novamente a nota nº {i} \"))\n",
        "\n"
      ],
      "metadata": {
        "id": "3TUAhCxcJRdR",
        "colab": {
          "base_uri": "https://localhost:8080/"
        },
        "outputId": "6526bd2c-224f-4cfb-e4a7-15bc2a9ff9ef"
      },
      "execution_count": null,
      "outputs": [
        {
          "name": "stdout",
          "output_type": "stream",
          "text": [
            "Digite a nota nº 1 1\n",
            "Digite a nota nº 2 2\n",
            "Digite a nota nº 3 3\n",
            "Digite a nota nº 4 4\n",
            "Digite a nota nº 5 5\n",
            "Digite a nota nº 6 6\n",
            "Nota inválida! Digite novamente a nota nº 6 1\n",
            "Digite a nota nº 7 2\n",
            "Digite a nota nº 8 3\n",
            "Digite a nota nº 9 4\n",
            "Digite a nota nº 10 5\n",
            "Digite a nota nº 11 -1\n",
            "Nota inválida! Digite novamente a nota nº 11 0\n",
            "Digite a nota nº 12 1\n",
            "Digite a nota nº 13 2\n",
            "Digite a nota nº 14 3\n",
            "Digite a nota nº 15 4\n"
          ]
        }
      ]
    },
    {
      "cell_type": "markdown",
      "source": [
        "#### Questão 4\n",
        "Desenvolva um programa que leia um conjunto indeterminado de temperaturas em Celsius e faça uma análise. Portanto, escreva um programa que leia temperaturas e informe a média delas. A leitura deve ser encerrada ao ser enviado o valor -273°C."
      ],
      "metadata": {
        "id": "ABv3KObGJRdR"
      }
    },
    {
      "cell_type": "code",
      "source": [
        "temp = 0\n",
        "soma = 0\n",
        "i = 0\n",
        "while temp != -273:\n",
        "  soma = soma + temp\n",
        "  temp = float(input(\"Digite a temperatura(para terminar o processo digite -273) \"))\n",
        "  i += 1\n",
        "\n",
        "media = soma/i\n",
        "print(f'A média das temperaturas é: {media} ºC')"
      ],
      "metadata": {
        "id": "85tBBj5KJRdS",
        "colab": {
          "base_uri": "https://localhost:8080/"
        },
        "outputId": "352f15d7-976b-4bc1-dbe1-257a55145f97"
      },
      "execution_count": null,
      "outputs": [
        {
          "output_type": "stream",
          "name": "stdout",
          "text": [
            "Digite a temperatura(para terminar o processo digite -273) 10\n",
            "Digite a temperatura(para terminar o processo digite -273) 20\n",
            "Digite a temperatura(para terminar o processo digite -273) 80\n",
            "Digite a temperatura(para terminar o processo digite -273) -10\n",
            "Digite a temperatura(para terminar o processo digite -273) -20\n",
            "Digite a temperatura(para terminar o processo digite -273) 50\n",
            "Digite a temperatura(para terminar o processo digite -273) -273\n",
            "A média das temperaturas é: 18.571428571428573 ºC\n"
          ]
        }
      ]
    },
    {
      "cell_type": "markdown",
      "source": [
        "#### Questão 5\n",
        "Escreva um programa que calcule o fatorial de um número inteiro fornecido pela pessoa usuária. O fatorial de um número inteiro é a multiplicação desse número por todos os seus antecessores até o número 1. Por exemplo, o fatorial de 5 é 5 x 4 x 3 x 2 x 1 = 120."
      ],
      "metadata": {
        "id": "IjkbAfGcJRdS"
      }
    },
    {
      "cell_type": "code",
      "source": [
        "n = int(input(\"Digite o número que gostaria de calcular o fatorial: \"))\n",
        "mult = 1\n",
        "for i in range(1,n+1):\n",
        "  mult = mult*i\n",
        "\n",
        "print(f\"O fatorial é igual à {mult}\")\n"
      ],
      "metadata": {
        "id": "7RTH8o0HJRdS",
        "colab": {
          "base_uri": "https://localhost:8080/"
        },
        "outputId": "c1728c61-0159-4f73-ac3a-deed14fc0b97"
      },
      "execution_count": null,
      "outputs": [
        {
          "output_type": "stream",
          "name": "stdout",
          "text": [
            "Digite o número que gostaria de calcular o fatorial: 100\n",
            "O fatorial é igual à 93326215443944152681699238856266700490715968264381621468592963895217599993229915608941463976156518286253697920827223758251185210916864000000000000000000000000\n"
          ]
        }
      ]
    },
    {
      "cell_type": "markdown",
      "source": [
        "### Momento dos projetos"
      ],
      "metadata": {
        "id": "oGNKuQjsJRdT"
      }
    },
    {
      "cell_type": "markdown",
      "source": [
        "#### Questão 6\n",
        "Escreva um programa que gere a tabuada de um número inteiro de 1 a 10, de acordo com a escolha da pessoa usuária. Como exemplo, para o número 2, a tabuada deve ser mostrada no seguinte formato:\n",
        "```\n",
        "Tabuada do 2:\n",
        "2 x 1 = 2\n",
        "2 x 2 = 4\n",
        "[...]\n",
        "2 x 10 = 20\n",
        "```"
      ],
      "metadata": {
        "id": "ODxaTUYmJRdS"
      }
    },
    {
      "cell_type": "code",
      "source": [
        "n = int(input('Digite o número da tabuada desejada: '))\n",
        "\n",
        "print(f'Tabuada do {n}')\n",
        "\n",
        "for i in range(1,11):\n",
        "  print(f'{n} x {i} = {n*i}')\n",
        "\n"
      ],
      "metadata": {
        "id": "lkTlbxPIJRdS",
        "colab": {
          "base_uri": "https://localhost:8080/"
        },
        "outputId": "891edeb5-7883-4cf6-b4bd-d76c08a1a3a2"
      },
      "execution_count": null,
      "outputs": [
        {
          "output_type": "stream",
          "name": "stdout",
          "text": [
            "Digite o número da tabuada desejada: 7\n",
            "Tabuada do 7\n",
            "7 x 1 = 7\n",
            "7 x 2 = 14\n",
            "7 x 3 = 21\n",
            "7 x 4 = 28\n",
            "7 x 5 = 35\n",
            "7 x 6 = 42\n",
            "7 x 7 = 49\n",
            "7 x 8 = 56\n",
            "7 x 9 = 63\n",
            "7 x 10 = 70\n"
          ]
        }
      ]
    },
    {
      "cell_type": "markdown",
      "source": [
        "#### Questão 7\n",
        "Os números primos possuem várias aplicações dentro da Ciência de Dados, por exemplo, na criptografia e segurança. Um número primo é aquele que é divisível apenas por um e por ele mesmo. Faça um programa que peça um número inteiro e determine se ele é ou não um número primo."
      ],
      "metadata": {
        "id": "LeIbnt8VJRdS"
      }
    },
    {
      "cell_type": "code",
      "source": [
        "n = int(input('Digite um número: '))\n",
        "i = 2\n",
        "\n",
        "while i != n and n%i != 0:\n",
        "  i += 1\n",
        "\n",
        "\n",
        "if i == n:\n",
        "  print(f\"O número {n} é primo\")\n",
        "else:\n",
        "  print(f\"O número {n} não é primo\")"
      ],
      "metadata": {
        "id": "2rcNU7twJRdS",
        "colab": {
          "base_uri": "https://localhost:8080/"
        },
        "outputId": "e55567de-dac9-4b9e-921c-566917397d7c"
      },
      "execution_count": null,
      "outputs": [
        {
          "output_type": "stream",
          "name": "stdout",
          "text": [
            "Digite um número: 104729\n",
            "O número 104729 é primo\n"
          ]
        }
      ]
    },
    {
      "cell_type": "markdown",
      "source": [
        "#### Questão 8\n",
        "Vamos entender a distribuição de idades de pensionistas de uma empresa de previdência. Escreva um programa que leia as idades de uma quantidade não informada de clientes e mostre a distribuição em intervalos de [0-25], [26-50], [51-75] e [76-100]. Encerre a entrada de dados com um número negativo."
      ],
      "metadata": {
        "id": "QTwb6QaCJRdT"
      }
    },
    {
      "cell_type": "code",
      "source": [
        "idade = 0\n",
        "i = 0\n",
        "soma025 = 0\n",
        "soma2650 = 0\n",
        "soma5175 = 0\n",
        "soma76100 = 0\n",
        "while idade >= 0:\n",
        "  i += 1\n",
        "  idade = int(input(f\"Digite a idade da {i}ª pessoa \"))\n",
        "  if 0 <= idade <= 25:\n",
        "    soma025 += 1\n",
        "  elif 26 <= idade <= 50:\n",
        "    soma2650 += 1\n",
        "  elif 51 <= idade <= 75:\n",
        "    soma5175 += 1\n",
        "  elif 76 <= idade <= 100:\n",
        "    soma76100 += 1\n",
        "\n",
        "print('Distribuição de idades')\n",
        "print(f'[0-25]: {soma025} pessoa(s)')\n",
        "print(f'[26-50]: {soma2650} pessoa(s)')\n",
        "print(f'[51-75]: {soma5175} pessoa(s)')\n",
        "print(f'[76-100]: {soma76100} pessoa(s)')\n"
      ],
      "metadata": {
        "id": "4IAhaDmYJRdT",
        "colab": {
          "base_uri": "https://localhost:8080/"
        },
        "outputId": "14d82e54-3695-4977-fe0b-7136ded59e94"
      },
      "execution_count": null,
      "outputs": [
        {
          "output_type": "stream",
          "name": "stdout",
          "text": [
            "Digite a idade da 1ª pessoa1\n",
            "Digite a idade da 2ª pessoa2\n",
            "Digite a idade da 3ª pessoa3\n",
            "Digite a idade da 4ª pessoa4\n",
            "Digite a idade da 5ª pessoa5\n",
            "Digite a idade da 6ª pessoa6\n",
            "Digite a idade da 7ª pessoa7\n",
            "Digite a idade da 8ª pessoa8\n",
            "Digite a idade da 9ª pessoa9\n",
            "Digite a idade da 10ª pessoa10\n",
            "Digite a idade da 11ª pessoa11\n",
            "Digite a idade da 12ª pessoa12\n",
            "Digite a idade da 13ª pessoa13\n",
            "Digite a idade da 14ª pessoa14\n",
            "Digite a idade da 15ª pessoa15\n",
            "Digite a idade da 16ª pessoa26\n",
            "Digite a idade da 17ª pessoa27\n",
            "Digite a idade da 18ª pessoa28\n",
            "Digite a idade da 19ª pessoa29\n",
            "Digite a idade da 20ª pessoa30\n",
            "Digite a idade da 21ª pessoa51\n",
            "Digite a idade da 22ª pessoa53\n",
            "Digite a idade da 23ª pessoa58\n",
            "Digite a idade da 24ª pessoa75\n",
            "Digite a idade da 25ª pessoa74\n",
            "Digite a idade da 26ª pessoa76\n",
            "Digite a idade da 27ª pessoa80\n",
            "Digite a idade da 28ª pessoa90\n",
            "Digite a idade da 29ª pessoa100\n",
            "Digite a idade da 30ª pessoa-1\n",
            "Distribuição de idades\n",
            "[0-25]: 15 pessoa(s)\n",
            "[26-50]: 5 pessoa(s)\n",
            "[51-75]: 5 pessoa(s)\n",
            "[76-100]: 4 pessoa(s)\n"
          ]
        }
      ]
    },
    {
      "cell_type": "markdown",
      "source": [
        "#### Questão 9\n",
        "Em uma eleição para gerência em uma empresa com 20 funcionários, existem quatro candidatos. Escreva um programa que calcule o vencedor da eleição. A votação ocorreu da seguinte maneira:\n",
        "- Cada funcionário votou em um dos quatro candidatos (representados pelos números 1, 2, 3 e 4).\n",
        "- Também foram contabilizados os votos nulos (representado pelo número 5) e os votos em branco (representado pelo número 6).\n",
        "\n",
        "Ao final da votação, o programa deve exibir o total de votos para cada candidato, o número de votos nulos e o número de votos em branco. Além disso, deve calcular e exibir a porcentagem de votos nulos em relação ao total de votos e a porcentagem de votos em branco em relação ao total de votos."
      ],
      "metadata": {
        "id": "soJCQVwRJRdT"
      }
    },
    {
      "cell_type": "code",
      "source": [
        "candidato1 = 0\n",
        "candidato2 = 0\n",
        "candidato3 = 0\n",
        "candidato4 = 0\n",
        "nulo = 0\n",
        "branco = 0\n",
        "\n",
        "for i in range(0,21):\n",
        "  voto = int(input('Digite seu voto (1,2,3,4,5(Nulo),6(Branco)): '))\n",
        "\n",
        "\n",
        "\n",
        "  if voto == 1:\n",
        "    candidato1 += 1\n",
        "  elif voto == 2:\n",
        "    candidato2 += 1\n",
        "  elif voto == 3:\n",
        "    candidato3 += 1\n",
        "  elif voto == 4:\n",
        "    candidato4 += 1\n",
        "  elif voto == 5:\n",
        "    nulo += 1\n",
        "  elif voto == 6:\n",
        "    branco += 1\n",
        "\n",
        "\n",
        "print(\" \")\n",
        "print(f\"Candidato 1: {candidato1} votos ({(candidato1*100)/20}% dos votos)\")\n",
        "print(f\"Candidato 2: {candidato2} votos ({(candidato2*100)/20}% dos votos)\")\n",
        "print(f\"Candidato 3: {candidato3} votos ({(candidato3*100)/20}% dos votos)\")\n",
        "print(f\"Candidato 4: {candidato4} votos ({(candidato4*100)/20}% dos votos)\")\n",
        "print(f\"Nulos: {nulo} votos ({(nulo*100)/20}% dos votos)\")\n",
        "print(f\"Brancos: {branco} votos ({(branco*100)/20}% dos votos)\")\n"
      ],
      "metadata": {
        "id": "041EFrgG-4gR",
        "colab": {
          "base_uri": "https://localhost:8080/"
        },
        "outputId": "dbc43ccc-8b5e-4c43-b30e-b6b25d2d8180"
      },
      "execution_count": null,
      "outputs": [
        {
          "output_type": "stream",
          "name": "stdout",
          "text": [
            "Digite seu voto (1,2,3,4,5(Nulo),6(Branco)): 1\n",
            "Digite seu voto (1,2,3,4,5(Nulo),6(Branco)): 2\n",
            "Digite seu voto (1,2,3,4,5(Nulo),6(Branco)): 2\n",
            "Digite seu voto (1,2,3,4,5(Nulo),6(Branco)): 3\n",
            "Digite seu voto (1,2,3,4,5(Nulo),6(Branco)): 3\n",
            "Digite seu voto (1,2,3,4,5(Nulo),6(Branco)): 3\n",
            "Digite seu voto (1,2,3,4,5(Nulo),6(Branco)): 4\n",
            "Digite seu voto (1,2,3,4,5(Nulo),6(Branco)): 4\n",
            "Digite seu voto (1,2,3,4,5(Nulo),6(Branco)): 4\n",
            "Digite seu voto (1,2,3,4,5(Nulo),6(Branco)): 4\n",
            "Digite seu voto (1,2,3,4,5(Nulo),6(Branco)): 5\n",
            "Digite seu voto (1,2,3,4,5(Nulo),6(Branco)): 5\n",
            "Digite seu voto (1,2,3,4,5(Nulo),6(Branco)): 5\n",
            "Digite seu voto (1,2,3,4,5(Nulo),6(Branco)): 5\n",
            "Digite seu voto (1,2,3,4,5(Nulo),6(Branco)): 5\n",
            "Digite seu voto (1,2,3,4,5(Nulo),6(Branco)): 6\n",
            "Digite seu voto (1,2,3,4,5(Nulo),6(Branco)): 6\n",
            "Digite seu voto (1,2,3,4,5(Nulo),6(Branco)): 6\n",
            "Digite seu voto (1,2,3,4,5(Nulo),6(Branco)): 6\n",
            "Digite seu voto (1,2,3,4,5(Nulo),6(Branco)): 6\n",
            "Digite seu voto (1,2,3,4,5(Nulo),6(Branco)): 6\n",
            " \n",
            "Candidato 1: 1 votos (5.0% dos votos)\n",
            "Candidato 2: 2 votos (10.0% dos votos)\n",
            "Candidato 3: 3 votos (15.0% dos votos)\n",
            "Candidato 4: 4 votos (20.0% dos votos)\n",
            "Nulos: 5 votos (25.0% dos votos)\n",
            "Brancos: 6 votos (30.0% dos votos)\n"
          ]
        }
      ]
    },
    {
      "cell_type": "markdown",
      "source": [
        "## Aula 5 - Estruturas de dados"
      ],
      "metadata": {
        "id": "eijHQiNU2IZ7"
      }
    },
    {
      "cell_type": "markdown",
      "source": [
        "### Aquecendo na programação"
      ],
      "metadata": {
        "id": "92F0bKtBMgd7"
      }
    },
    {
      "cell_type": "markdown",
      "source": [
        "#### Questão 1\n",
        "Faça um programa que tenha a seguinte lista contendo os valores de gastos de uma empresa de papel `[2172.54, 3701.35, 3518.09, 3456.61, 3249.38, 2840.82, 3891.45, 3075.26, 2317.64, 3219.08]`. Com esses valores, faça um programa que calcule a média de gastos. Dica, use as funções built-in [`sum()`](https://docs.python.org/3/library/functions.html#sum) e [`len()`](https://docs.python.org/3/library/functions.html#len)."
      ],
      "metadata": {
        "id": "IypX2ANuMgeC"
      }
    },
    {
      "cell_type": "code",
      "source": [
        "gastos = [2172.54, 3701.35, 3518.09, 3456.61, 3249.38, 2840.82, 3891.45, 3075.26, 2317.64, 3219.08]\n",
        "somaGastos = sum(gastos)\n",
        "tamanhoGastos = len(gastos)\n",
        "\n",
        "mediaGastos = somaGastos/tamanhoGastos\n",
        "print(f'A média dos gastos é de {mediaGastos}')"
      ],
      "metadata": {
        "id": "ge3LuFhLMgeD",
        "colab": {
          "base_uri": "https://localhost:8080/"
        },
        "outputId": "0d71a969-41ab-4e0c-b495-eeb6e960012a"
      },
      "execution_count": null,
      "outputs": [
        {
          "output_type": "stream",
          "name": "stdout",
          "text": [
            "A média dos gastos é de 3144.222\n"
          ]
        }
      ]
    },
    {
      "cell_type": "markdown",
      "source": [
        "#### Questão 2\n",
        " Com os mesmos dados da questão anterior, defina quantas compras foram acima de 3000 reais e calcule a porcentagem quanto ao total de compras."
      ],
      "metadata": {
        "id": "xrOeLhQkMgeD"
      }
    },
    {
      "cell_type": "code",
      "source": [
        "acima = 0\n",
        "for valoresGastos in gastos:\n",
        "  if valoresGastos > 3000:\n",
        "    acima += 1\n",
        "\n",
        "print(f'São {acima} ({(acima*100)/len(gastos)}%) valores gatos acima de 3000')"
      ],
      "metadata": {
        "id": "Ygu5TMZyMgeD",
        "colab": {
          "base_uri": "https://localhost:8080/"
        },
        "outputId": "81740de2-d235-484a-b53e-432b48b75521"
      },
      "execution_count": null,
      "outputs": [
        {
          "output_type": "stream",
          "name": "stdout",
          "text": [
            "São 7 (70.0%) valores gatos acima de 3000\n"
          ]
        }
      ]
    },
    {
      "cell_type": "markdown",
      "source": [
        "#### Questão 3\n",
        "Faça um código que colete em uma lista 5 números inteiros quaisquer e imprima a lista. Exemplo: `[1,4,7,2,4]`."
      ],
      "metadata": {
        "id": "JgCOrE_BMgeD"
      }
    },
    {
      "cell_type": "code",
      "source": [
        "listaValores = []\n",
        "\n",
        "for i in range(0,5):\n",
        "  valor = int(input(\"Digite o número: \"))\n",
        "  listaValores.append(valor)\n",
        "\n",
        "print(listaValores)"
      ],
      "metadata": {
        "id": "vtM9O1hLMgeD",
        "colab": {
          "base_uri": "https://localhost:8080/"
        },
        "outputId": "f194c170-66cc-43ee-9ce9-620c52191f50"
      },
      "execution_count": null,
      "outputs": [
        {
          "output_type": "stream",
          "name": "stdout",
          "text": [
            "Digite o número: 1\n",
            "Digite o número: 4\n",
            "Digite o número: 7\n",
            "Digite o número: 2\n",
            "Digite o número: 4\n",
            "[1, 4, 7, 2, 4]\n"
          ]
        }
      ]
    },
    {
      "cell_type": "markdown",
      "source": [
        "#### Questão 4\n",
        "Colete novamente 5 inteiros e imprima a lista em ordem inversa à enviada."
      ],
      "metadata": {
        "id": "p3bTp88HMgeD"
      }
    },
    {
      "cell_type": "code",
      "source": [
        "listaValoresInv = []\n",
        "\n",
        "for i in range(0,5):\n",
        "  valorInv = int(input(\"Digite o número: \"))\n",
        "  listaValoresInv.append(valorInv)\n",
        "\n",
        "\n",
        "listaValoresInv[::-1]"
      ],
      "metadata": {
        "id": "-CGwMIyHMgeD",
        "colab": {
          "base_uri": "https://localhost:8080/"
        },
        "outputId": "25f6d85e-5243-429e-ef93-a9a98b45fcd6"
      },
      "execution_count": null,
      "outputs": [
        {
          "name": "stdout",
          "output_type": "stream",
          "text": [
            "Digite o número: 1\n",
            "Digite o número: 4\n",
            "Digite o número: 7\n",
            "Digite o número: 2\n",
            "Digite o número: 4\n"
          ]
        },
        {
          "output_type": "execute_result",
          "data": {
            "text/plain": [
              "[4, 2, 7, 4, 1]"
            ]
          },
          "metadata": {},
          "execution_count": 59
        }
      ]
    },
    {
      "cell_type": "markdown",
      "source": [
        "#### Questão 5\n",
        "Faça um programa que, ao inserir um número qualquer, criará uma lista contendo todos os números primos entre 1 e o número digitado."
      ],
      "metadata": {
        "id": "eIXd_z1lMgeD"
      }
    },
    {
      "cell_type": "code",
      "source": [
        "n = int(input('Digite um número: '))\n",
        "\n",
        "for j in range(2,n):\n",
        "  i = 2\n",
        "  while i <= j and j%i != 0:\n",
        "    i += 1\n",
        "\n",
        "  if i == j:\n",
        "    print(j)\n"
      ],
      "metadata": {
        "id": "rj_6GHstMgeE",
        "colab": {
          "base_uri": "https://localhost:8080/"
        },
        "outputId": "340c4254-3071-459e-d7bd-2917bb434bb2"
      },
      "execution_count": 7,
      "outputs": [
        {
          "output_type": "stream",
          "name": "stdout",
          "text": [
            "Digite um número: 100\n",
            "2\n",
            "3\n",
            "5\n",
            "7\n",
            "11\n",
            "13\n",
            "17\n",
            "19\n",
            "23\n",
            "29\n",
            "31\n",
            "37\n",
            "41\n",
            "43\n",
            "47\n",
            "53\n",
            "59\n",
            "61\n",
            "67\n",
            "71\n",
            "73\n",
            "79\n",
            "83\n",
            "89\n",
            "97\n"
          ]
        }
      ]
    },
    {
      "cell_type": "markdown",
      "source": [
        "#### Questão 6\n",
        "Escreva um programa que peça uma data informando o dia, mês e ano e determine se ela é uma data válida para uma análise."
      ],
      "metadata": {
        "id": "zrbz3ENlMgeE"
      }
    },
    {
      "cell_type": "code",
      "source": [
        "dia = int(input('Digite o dia: '))\n",
        "mes = int(input('Digite o mês: '))\n",
        "ano = int(input('Digite o ano: '))\n",
        "\n",
        "if mes == 2:\n",
        "  if ano%4 == 0 and (ano % 400 == 0 or ano % 100 != 0):\n",
        "    limiteDias = 29\n",
        "  else:\n",
        "    limiteDias = 28\n",
        "elif mes in [1, 3, 5, 7, 8, 10, 12]:\n",
        "  limiteDias = 31\n",
        "elif mes in [4, 6, 9, 11]:\n",
        "  limiteDias = 30\n",
        "\n",
        "if 1 <= dia <= limiteDias and 1 <= mes <= 12:\n",
        "  print('Data válida')\n",
        "else:\n",
        "  print('Data Inválida')"
      ],
      "metadata": {
        "id": "0eYA8UjTMgeE",
        "colab": {
          "base_uri": "https://localhost:8080/"
        },
        "outputId": "9c74f7d0-3c56-42e2-8ab1-7427da67f8d0"
      },
      "execution_count": 9,
      "outputs": [
        {
          "output_type": "stream",
          "name": "stdout",
          "text": [
            "Digite o dia: 28\n",
            "Digite o mês: 02\n",
            "Digite o ano: 2023\n",
            "Data válida\n"
          ]
        }
      ]
    },
    {
      "cell_type": "markdown",
      "source": [
        "### Momento dos projetos"
      ],
      "metadata": {
        "id": "ut_4VHdGMgeE"
      }
    },
    {
      "cell_type": "markdown",
      "source": [
        "#### Questão 7\n",
        "Para um estudo envolvendo o nível de multiplicação de bactérias em uma colônia, foi coletado o número de bactérias multiplicadas por dia, com base em um processo de duplicação diária e pode ser observado a seguir: `[1.2, 2.1, 3.3, 5.0, 7.8, 11.3, 16.6, 25.1, 37.8, 56.9]`. Tendo esses valores, faça um código que gere uma lista contendo o percentual de crescimento de bactérias por dia, comparando o número de bactérias em cada dia com o número de bactérias do dia anterior. Dica: para calcular o percentual de crescimento usamos a seguinte equação: `100 * (amostra_atual - amostra_passada) / (amostra_passada)`."
      ],
      "metadata": {
        "id": "G86Z0vD_MgeE"
      }
    },
    {
      "cell_type": "code",
      "source": [
        "crescimento = [1.2, 2.1, 3.3, 5.0, 7.8, 11.3, 16.6, 25.1, 37.8, 56.9]\n",
        "arrayTaxas = []\n",
        "\n",
        "for i in range(1, len(crescimento)):\n",
        "  taxaCresc = 100*(crescimento[i] - crescimento[i-1])/(crescimento[i-1])\n",
        "  arrayTaxas.append(taxaCresc)\n",
        "\n",
        "arrayTaxas"
      ],
      "metadata": {
        "id": "PXNO_CFkMgeE",
        "colab": {
          "base_uri": "https://localhost:8080/"
        },
        "outputId": "9e0cef97-acb6-41ce-97e5-61e182b6dd28"
      },
      "execution_count": 10,
      "outputs": [
        {
          "output_type": "execute_result",
          "data": {
            "text/plain": [
              "[75.00000000000001,\n",
              " 57.142857142857125,\n",
              " 51.51515151515153,\n",
              " 56.0,\n",
              " 44.87179487179489,\n",
              " 46.90265486725664,\n",
              " 51.20481927710843,\n",
              " 50.59760956175297,\n",
              " 50.52910052910054]"
            ]
          },
          "metadata": {},
          "execution_count": 10
        }
      ]
    },
    {
      "cell_type": "markdown",
      "source": [
        "#### Questão 8\n",
        "Para uma seleção de produtos alimentícios, precisamos separar o conjunto de IDs dados por números inteiros, sabendo que os produtos com ID par são doces e os com ID ímpar são amargos. Monte um código que colete 10 IDs. Depois, calcule e mostre a quantidade de produtos doces e amargos."
      ],
      "metadata": {
        "id": "p4nxogpnMgeE"
      }
    },
    {
      "cell_type": "code",
      "source": [
        "doces = 0\n",
        "amargos = 0\n",
        "\n",
        "for i in range(0,10):\n",
        "  idProduto = int(input(f\"Digite o ID do produto nº{i+1}: \"))\n",
        "\n",
        "  if idProduto%2 == 0:\n",
        "    doces += 1\n",
        "  else:\n",
        "    amargos += 1\n",
        "\n",
        "print(f'Produtos doces: {doces} produtos')\n",
        "print(f'Produtos amargos: {amargos} produtos')"
      ],
      "metadata": {
        "id": "WqjO2SZkMgeE",
        "colab": {
          "base_uri": "https://localhost:8080/"
        },
        "outputId": "0656962f-a527-4deb-dd0a-263815cc85ce"
      },
      "execution_count": 16,
      "outputs": [
        {
          "output_type": "stream",
          "name": "stdout",
          "text": [
            "Digite o ID do produto nº1: 1\n",
            "Digite o ID do produto nº2: 2\n",
            "Digite o ID do produto nº3: 3\n",
            "Digite o ID do produto nº4: 4\n",
            "Digite o ID do produto nº5: 5\n",
            "Digite o ID do produto nº6: 6\n",
            "Digite o ID do produto nº7: 7\n",
            "Digite o ID do produto nº8: 8\n",
            "Digite o ID do produto nº9: 9\n",
            "Digite o ID do produto nº10: 10\n",
            "Produtos doces: 5 produtos\n",
            "Produtos amargos: 5 produtos\n"
          ]
        }
      ]
    },
    {
      "cell_type": "markdown",
      "source": [
        "#### Questão 9\n",
        "Desenvolva um programa que informa a nota de um aluno de acordo com suas respostas. Ele deve pedir a resposta de um aluno para cada questão e é preciso verificar se a resposta foi igual ao gabarito. Cada questão vale um ponto e existem alternativas:  A, B, C ou D.\n",
        "```\n",
        "Gabarito da Prova:\n",
        "01 - D\n",
        "02 - A\n",
        "03 - C\n",
        "04 - B\n",
        "05 - A\n",
        "06 - D\n",
        "07 - C\n",
        "08 - C\n",
        "09 - A\n",
        "10 - B\n",
        "```"
      ],
      "metadata": {
        "id": "t5OrLxV6MgeE"
      }
    },
    {
      "cell_type": "code",
      "source": [
        "gabarito = ['D','A','C','B','A','D','C','C','A','B']\n",
        "correto = 0\n",
        "for i in range(0,10):\n",
        "  resposta = input(f'Digite a resposta da questão {i+1} (A,B,C,D)')\n",
        "  if resposta.upper() == gabarito[i]:\n",
        "    correto += 1\n",
        "print(f'O aluno fez {correto} pontos')"
      ],
      "metadata": {
        "id": "ytIQDJrQMgeE",
        "colab": {
          "base_uri": "https://localhost:8080/"
        },
        "outputId": "53acbb6a-c0b0-4056-d5ad-f763bc484451"
      },
      "execution_count": 17,
      "outputs": [
        {
          "output_type": "stream",
          "name": "stdout",
          "text": [
            "Digite a resposta da questão 1 (A,B,C,D)D\n",
            "Digite a resposta da questão 2 (A,B,C,D)A\n",
            "Digite a resposta da questão 3 (A,B,C,D)C\n",
            "Digite a resposta da questão 4 (A,B,C,D)C\n",
            "Digite a resposta da questão 5 (A,B,C,D)A\n",
            "Digite a resposta da questão 6 (A,B,C,D)C\n",
            "Digite a resposta da questão 7 (A,B,C,D)D\n",
            "Digite a resposta da questão 8 (A,B,C,D)C\n",
            "Digite a resposta da questão 9 (A,B,C,D)A\n",
            "Digite a resposta da questão 10 (A,B,C,D)B\n",
            "O aluno fez 7 pontos\n"
          ]
        }
      ]
    },
    {
      "cell_type": "markdown",
      "source": [
        "#### Questão 10\n",
        "Um instituto de meteorologia deseja fazer um estudo de temperatura média de cada mês do ano. Para isso, você precisa fazer um código que colete e armazene essas temperaturas médias em uma lista. Depois, calcule a média anual das temperaturas e mostre todas as temperaturas acima da média anual, e em que mês elas ocorreram, mostrando os meses por extenso: Janeiro, Fevereiro, etc."
      ],
      "metadata": {
        "id": "aSBMzh-AMgeF"
      }
    },
    {
      "cell_type": "code",
      "source": [
        "arrayTemp = []\n",
        "\n",
        "meses = ['Janeiro', 'Fevereiro', 'Março', 'Abril', 'Maio', 'Junho', 'Julho', 'Agosto', 'Setembro', 'Outubro', 'Novembro', 'Dezembro']\n",
        "\n",
        "for i in range(0,12):\n",
        "  tempMes = float(input(f'Digite a temperatura média do mes de {meses[i]}: '))\n",
        "  arrayTemp.append(tempMes)\n",
        "\n",
        "media = sum(arrayTemp)/len(arrayTemp)\n",
        "\n",
        "print('Meses com temperatura acima da média:')\n",
        "\n",
        "for j in range(0,12):\n",
        "  if arrayTemp[j] > media:\n",
        "    print(f'mês {meses[j]}: {arrayTemp[j]}')\n"
      ],
      "metadata": {
        "id": "ftj04s2uMgeF",
        "colab": {
          "base_uri": "https://localhost:8080/"
        },
        "outputId": "1ab8d587-c9b0-4592-d994-c6177d9a8300"
      },
      "execution_count": 5,
      "outputs": [
        {
          "output_type": "stream",
          "name": "stdout",
          "text": [
            "Digite a temperatura média do mes de Janeiro: 23\n",
            "Digite a temperatura média do mes de Fevereiro: 23\n",
            "Digite a temperatura média do mes de Março: 22\n",
            "Digite a temperatura média do mes de Abril: 21\n",
            "Digite a temperatura média do mes de Maio: 18\n",
            "Digite a temperatura média do mes de Junho: 17\n",
            "Digite a temperatura média do mes de Julho: 16\n",
            "Digite a temperatura média do mes de Agosto: 18\n",
            "Digite a temperatura média do mes de Setembro: 19\n",
            "Digite a temperatura média do mes de Outubro: 20\n",
            "Digite a temperatura média do mes de Novembro: 21\n",
            "Digite a temperatura média do mes de Dezembro: 22\n",
            "Meses com temperatura acima da média:\n",
            "mês Janeiro: 23.0\n",
            "mês Fevereiro: 23.0\n",
            "mês Março: 22.0\n",
            "mês Abril: 21.0\n",
            "mês Novembro: 21.0\n",
            "mês Dezembro: 22.0\n"
          ]
        }
      ]
    },
    {
      "cell_type": "markdown",
      "source": [
        "#### Questão 11\n",
        "Uma empresa de e-commerce está interessada em analisar as vendas dos seus produtos. Os dados das vendas foram armazenados em um dicionário:\n",
        "```\n",
        "{'Produto A': 300, 'Produto B': 80, 'Produto C': 60,\n",
        " 'Produto D': 200, 'Produto E': 250, 'Produto F': 30}\n",
        "```\n",
        "Escreva um código que calcule o total de vendas e o produto mais vendido."
      ],
      "metadata": {
        "id": "0X8S6s4jMgeF"
      }
    },
    {
      "cell_type": "code",
      "source": [
        "arrayDadosVendas = {'Produto A': 300, 'Produto B': 80, 'Produto C': 60, 'Produto D': 200, 'Produto E': 250, 'Produto F': 30}\n",
        "\n",
        "vendasTotais = 0\n",
        "maisVendido = ''\n",
        "qntMaisVendido = 0\n",
        "\n",
        "for produto in arrayDadosVendas.keys():\n",
        "  vendasTotais += arrayDadosVendas[produto]\n",
        "  if arrayDadosVendas[produto] > qntMaisVendido:\n",
        "    qntMaisVendido = arrayDadosVendas[produto]\n",
        "    maisVendido = produto\n",
        "print(f'O produto mais vendido é o {maisVendido} com {qntMaisVendido} unidades')"
      ],
      "metadata": {
        "id": "Xa3DJLtFMgeF",
        "colab": {
          "base_uri": "https://localhost:8080/"
        },
        "outputId": "e0dad0ce-9aac-4fce-8a78-f0aeeb5f0efb"
      },
      "execution_count": 8,
      "outputs": [
        {
          "output_type": "stream",
          "name": "stdout",
          "text": [
            "O produto mais vendido é o Produto A com 300 unidades\n"
          ]
        }
      ]
    },
    {
      "cell_type": "markdown",
      "source": [
        "#### Questão 12\n",
        "Uma pesquisa de mercado foi feita para decidir qual design de uma marca infantil mais agrada crianças. A pesquisa foi feita e o votos computados podem ser observados abaixo:\n",
        "```\n",
        "'''\n",
        "Tabela de votos da marca\n",
        "Design 1 - 1334 votos\n",
        "Design 2 - 982 votos\n",
        "Design 3 - 1751 votos\n",
        "Design 4 - 210 votos\n",
        "Design 5 - 1811 votos\n",
        "'''\n",
        "```\n",
        "Adapte os dados fornecidos a você para uma estrutura de dicionário e a partir dele, informe o design vencedor e a porcentagem de votos recebidos.\n"
      ],
      "metadata": {
        "id": "nrEwf_1ZMgeF"
      }
    },
    {
      "cell_type": "code",
      "source": [
        "dicVotosDesign = {'Design 1': 1334, 'Design 2': 982, 'Design 3': 1751, 'Design 4': 210, 'Design 5': 1811}\n",
        "\n",
        "votos = 0\n",
        "designVencedor = ''\n",
        "totalDeVotos = 0\n",
        "\n",
        "for design in dicVotosDesign.keys():\n",
        "\n",
        "  totalDeVotos += dicVotosDesign[design]\n",
        "\n",
        "  if votos < dicVotosDesign[design]:\n",
        "    votos = dicVotosDesign[design]\n",
        "    designVencedor = design\n",
        "\n",
        "print(f'O design vencedor é o {designVencedor} com total de {votos} votos ({votos*100/totalDeVotos}%)')"
      ],
      "metadata": {
        "id": "MRPcGR-_MgeF",
        "colab": {
          "base_uri": "https://localhost:8080/"
        },
        "outputId": "cfdded88-67c4-46b2-cd72-1152a0541988"
      },
      "execution_count": 11,
      "outputs": [
        {
          "output_type": "stream",
          "name": "stdout",
          "text": [
            "O design vencedor é o Design 5 com total de 1811 votos (29.747043363994745%)\n"
          ]
        }
      ]
    },
    {
      "cell_type": "markdown",
      "source": [
        "#### Questão 13\n",
        "Os funcionários de um setor da empresa que você trabalha vão receber um abono correspondente a 10% do seu salário devido ao ótimo desempenho do time. O setor financeiro solicitou sua ajuda para a verificação das consequências financeiras que esse abono irá gerar nos recursos. Assim, foi encaminhada para você uma lista com os salários que receberão o abono: `[1172, 1644, 2617, 5130, 5532, 6341, 6650, 7238, 7685, 7782, 7903]`. O abono de cada funcionário não pode ser inferior a 200. Em código, transforme cada um dos salários em chaves de um dicionário e o abono de cada salário no elemento. Depois, informe o total de gastos com o abono, quantos funcionários receberam o abono mínimo e qual o maior valor de abono fornecido.\n"
      ],
      "metadata": {
        "id": "HRTFFzKIMgeF"
      }
    },
    {
      "cell_type": "code",
      "source": [
        "salarios = [1172, 1644, 2617, 5130, 5532, 6341, 6650, 7238, 7685, 7782, 7903]\n",
        "\n",
        "abonoPorcento = 0.10\n",
        "\n",
        "dicAbono = {}\n",
        "qntPessoas = 0\n",
        "totalAbonos = 0\n",
        "maiorAbono = 0\n",
        "\n",
        "for valorSalario in salarios:\n",
        "  abono = valorSalario*abonoPorcento\n",
        "\n",
        "  if abono < 200:\n",
        "    abono = 200\n",
        "    qntPessoas += 1\n",
        "\n",
        "  dicAbono[valorSalario] = abono\n",
        "  totalAbonos += abono\n",
        "  if maiorAbono < abono:\n",
        "    maiorAbono = abono\n",
        "\n",
        "print(f'Abonos: {dicAbono}')\n",
        "print(f'Total de gasto com abonos: {totalAbonos}')\n",
        "print(f'Número de funcionários que receberam o abono mínimo: {qntPessoas}')\n",
        "print(f'Maior valor de abono: {maiorAbono}')\n",
        "\n"
      ],
      "metadata": {
        "id": "QsDSCua42bLB",
        "colab": {
          "base_uri": "https://localhost:8080/"
        },
        "outputId": "3345b678-c868-4808-d54f-68f05369c487"
      },
      "execution_count": 13,
      "outputs": [
        {
          "output_type": "stream",
          "name": "stdout",
          "text": [
            "Abonos: {1172: 200, 1644: 200, 2617: 261.7, 5130: 513.0, 5532: 553.2, 6341: 634.1, 6650: 665.0, 7238: 723.8000000000001, 7685: 768.5, 7782: 778.2, 7903: 790.3000000000001}\n",
            "Total de gasto com abonos: 6087.8\n",
            "Número de funcionários que receberam o abono mínimo: 2\n",
            "Maior valor de abono: 790.3000000000001\n"
          ]
        }
      ]
    },
    {
      "cell_type": "markdown",
      "source": [
        "#### Questão 14\n",
        "Uma equipe de cientistas de dados está estudando a diversidade biológica em uma floresta. A equipe fez a coleta de informações sobre o número de espécies de plantas e animais em cada área da floresta e armazenaram essas informações em um dicionário. Nele, a chave descreve a área dos dados e os valores nas listas correspondem às espécies de plantas e animais nas áreas, respectivamente.\n",
        "```\n",
        "{'Área Norte': [2819, 7236],\n",
        " 'Área Leste': [1440, 9492],\n",
        " 'Área Sul': [5969, 7496],\n",
        " 'Área Oeste': [14446, 49688],\n",
        " 'Área Centro': [22558, 45148]}\n",
        "```\n",
        "Escreva um código para calcular a média de espécies por área e identificar a área com a maior diversidade biológica. Dica: use as funções built-in [`sum()`](https://docs.python.org/3/library/functions.html#sum) e [`len()`](https://docs.python.org/3/library/functions.html#len).\n"
      ],
      "metadata": {
        "id": "6dEXZEwjMlWy"
      }
    },
    {
      "cell_type": "code",
      "source": [
        "dadosDiversidade = {'Área Norte': [2819, 7236],\n",
        " 'Área Leste': [1440, 9492],\n",
        " 'Área Sul': [5969, 7496],\n",
        " 'Área Oeste': [14446, 49688],\n",
        " 'Área Centro': [22558, 45148]}\n",
        "\n",
        "totalEspecies = 0\n",
        "somaMedias = 0\n",
        "maiorSoma = 0\n",
        "\n",
        "for areas, especies in dadosDiversidade.items():\n",
        "  totalEspecies = sum(especies)\n",
        "\n",
        "  media = totalEspecies / len(especies)\n",
        "\n",
        "  print(f'A {areas} tem a média de {media} espécies')\n",
        "\n",
        "  if totalEspecies > maiorSoma:\n",
        "    maiorSoma = totalEspecies\n",
        "    maiorDiversidade = areas\n",
        "\n",
        "  somaMedias += media\n",
        "totalMedias = somaMedias / len(dadosDiversidade)\n",
        "print(f'Média geral de espécies: {totalMedias}')\n",
        "print(f'Área com a maior diversidade biológica: {maiorDiversidade}')"
      ],
      "metadata": {
        "id": "eQnOUDfYMlWy",
        "colab": {
          "base_uri": "https://localhost:8080/"
        },
        "outputId": "38dfbc18-5d99-4c5a-9809-e6af021e121d"
      },
      "execution_count": 18,
      "outputs": [
        {
          "output_type": "stream",
          "name": "stdout",
          "text": [
            "A Área Norte tem a média de 5027.5 espécies\n",
            "A Área Leste tem a média de 5466.0 espécies\n",
            "A Área Sul tem a média de 6732.5 espécies\n",
            "A Área Oeste tem a média de 32067.0 espécies\n",
            "A Área Centro tem a média de 33853.0 espécies\n",
            "Média geral de espécies: 16629.2\n",
            "Área com a maior diversidade biológica: Área Centro\n"
          ]
        }
      ]
    },
    {
      "cell_type": "markdown",
      "source": [
        "#### Questão 15\n",
        "O setor de RH da sua empresa te pediu uma ajuda para analisar as idades dos funcionários de 4 setores da empresa. Para isso, ele te forneceu os seguintes dados:\n",
        "```\n",
        "{'Setor A': [22, 26, 30, 30, 35, 38, 40, 56, 57, 65],\n",
        " 'Setor B': [22, 24, 26, 33, 41, 49, 50, 54, 60, 64],\n",
        " 'Setor C': [23, 26, 26, 29, 34, 35, 36, 41, 52, 56],\n",
        " 'Setor D': [19, 20, 25, 27, 34, 39, 42, 44, 50, 65]}\n",
        "```\n",
        "Sabendo que cada setor tem 10 funcionários, construa um código que calcule a média de idade de cada setor, a idade média geral entre todos os setores e quantas pessoas estão acima da idade média geral.\n"
      ],
      "metadata": {
        "id": "r0RW2Sy_MlWy"
      }
    },
    {
      "cell_type": "code",
      "source": [
        "dicIdades = {'Setor A': [22, 26, 30, 30, 35, 38, 40, 56, 57, 65],\n",
        " 'Setor B': [22, 24, 26, 33, 41, 49, 50, 54, 60, 64],\n",
        " 'Setor C': [23, 26, 26, 29, 34, 35, 36, 41, 52, 56],\n",
        " 'Setor D': [19, 20, 25, 27, 34, 39, 42, 44, 50, 65]}\n",
        "\n",
        "somaGeral = 0\n",
        "qntPessoasAcima = 0\n",
        "\n",
        "for setor, idades in dicIdades.items():\n",
        "\n",
        "  mediaSetor = sum(idades)/len(idades)\n",
        "  print(f'O {setor} tem uma media de idades de {mediaSetor} anos')\n",
        "\n",
        "  somaGeral += mediaSetor\n",
        "\n",
        "mediaGeral = somaGeral/len(dicIdades)\n",
        "\n",
        "print(f'A média geral da empresa é de {mediaGeral} anos')\n",
        "\n",
        "for setor, idades in dicIdades.items():\n",
        "  for age in idades:\n",
        "    if age > mediaGeral:\n",
        "      qntPessoasAcima += 1\n",
        "\n",
        "print(f'Temos {qntPessoasAcima} pessoas acima da idade média da empresa')\n",
        "\n"
      ],
      "metadata": {
        "id": "wCiwyKP3MmTz",
        "colab": {
          "base_uri": "https://localhost:8080/"
        },
        "outputId": "faca0cf7-22ef-466b-f1bd-0745124d4d3a"
      },
      "execution_count": 21,
      "outputs": [
        {
          "output_type": "stream",
          "name": "stdout",
          "text": [
            "O Setor A tem uma media de idades de 39.9 anos\n",
            "O Setor B tem uma media de idades de 42.3 anos\n",
            "O Setor C tem uma media de idades de 35.8 anos\n",
            "O Setor D tem uma media de idades de 36.5 anos\n",
            "A média geral da empresa é de 38.625 anos\n",
            "Temos 18 pessoas acima da idade média da empresa\n"
          ]
        }
      ]
    }
  ]
}